{
 "cells": [
  {
   "cell_type": "code",
   "execution_count": 28,
   "metadata": {},
   "outputs": [],
   "source": [
    "import numpy as np\n",
    "import pandas as pd\n",
    "from tensorflow import keras\n",
    "from tensorflow.keras import layers"
   ]
  },
  {
   "cell_type": "code",
   "execution_count": 29,
   "metadata": {},
   "outputs": [
    {
     "name": "stdout",
     "output_type": "stream",
     "text": [
      "x_train shape: (60000, 28, 28, 1)\n",
      "60000 train samples\n",
      "10000 test samples\n"
     ]
    }
   ],
   "source": [
    "# Model / data parameters\n",
    "num_classes = 10\n",
    "input_shape = (28, 28, 1)\n",
    "\n",
    "# Shared parameters\n",
    "epochs = 15\n",
    "batch_size = 128\n",
    "\n",
    "# the data, split between train and test sets\n",
    "(x_train, y_train), (x_test, y_test) = keras.datasets.mnist.load_data()\n",
    "\n",
    "# Scale images to the [0, 1] range\n",
    "x_train = x_train.astype(\"float32\") / 255\n",
    "x_test = x_test.astype(\"float32\") / 255\n",
    "# Make sure images have shape (28, 28, 1)\n",
    "x_train = np.expand_dims(x_train, -1)\n",
    "x_test = np.expand_dims(x_test, -1)\n",
    "print(\"x_train shape:\", x_train.shape)\n",
    "print(x_train.shape[0], \"train samples\")\n",
    "print(x_test.shape[0], \"test samples\")\n",
    "\n",
    "# convert class vectors to binary class matrices\n",
    "y_train = keras.utils.to_categorical(y_train, num_classes)\n",
    "y_test = keras.utils.to_categorical(y_test, num_classes)\n"
   ]
  },
  {
   "cell_type": "code",
   "execution_count": 30,
   "metadata": {},
   "outputs": [],
   "source": [
    "def accuracy_per_class(model):\n",
    "    y_pred = model.predict(x_test)\n",
    "\n",
    "    correct = [0] * num_classes\n",
    "    total = [0] * num_classes\n",
    "\n",
    "    for real, pred in zip(y_test.argmax(axis=1), y_pred.argmax(axis=1)):\n",
    "        if real == pred:\n",
    "            correct[real] += 1\n",
    "        total[real] += 1\n",
    "\n",
    "    accuracies = []\n",
    "    for correct, total in zip(correct, total):\n",
    "        accuracies.append(correct / total)\n",
    "\n",
    "    return pd.Series(data=accuracies, index=range(0,num_classes), name=\"Accuracy per class\")\n",
    "\n",
    "def accuracy_precision_recall(model):\n",
    "    _, acc, prec, rec = model.evaluate(x_test, y_test,verbose=0)\n",
    "\n",
    "    return pd.Series(data=[acc, prec, rec],index=[\"Accuracy\", \"Precision\", \"Recall\"])"
   ]
  },
  {
   "cell_type": "code",
   "execution_count": 35,
   "metadata": {},
   "outputs": [
    {
     "ename": "ValueError",
     "evalue": "('Unrecognized keyword arguments:', dict_keys(['shape']))",
     "output_type": "error",
     "traceback": [
      "\u001b[0;31m---------------------------------------------------------------------------\u001b[0m",
      "\u001b[0;31mValueError\u001b[0m                                Traceback (most recent call last)",
      "\u001b[0;32m<ipython-input-35-4be3f4c0e95c>\u001b[0m in \u001b[0;36m<module>\u001b[0;34m\u001b[0m\n\u001b[1;32m      1\u001b[0m model = keras.Sequential([\n\u001b[0;32m----> 2\u001b[0;31m     \u001b[0mlayers\u001b[0m\u001b[0;34m.\u001b[0m\u001b[0mInputLayer\u001b[0m\u001b[0;34m(\u001b[0m\u001b[0mshape\u001b[0m\u001b[0;34m=\u001b[0m\u001b[0minput_shape\u001b[0m\u001b[0;34m)\u001b[0m\u001b[0;34m,\u001b[0m\u001b[0;34m\u001b[0m\u001b[0;34m\u001b[0m\u001b[0m\n\u001b[0m\u001b[1;32m      3\u001b[0m     \u001b[0mlayers\u001b[0m\u001b[0;34m.\u001b[0m\u001b[0mFlatten\u001b[0m\u001b[0;34m(\u001b[0m\u001b[0;34m)\u001b[0m\u001b[0;34m,\u001b[0m\u001b[0;34m\u001b[0m\u001b[0;34m\u001b[0m\u001b[0m\n\u001b[1;32m      4\u001b[0m     \u001b[0mlayers\u001b[0m\u001b[0;34m.\u001b[0m\u001b[0mDense\u001b[0m\u001b[0;34m(\u001b[0m\u001b[0;36m50\u001b[0m\u001b[0;34m)\u001b[0m\u001b[0;34m,\u001b[0m\u001b[0;34m\u001b[0m\u001b[0;34m\u001b[0m\u001b[0m\n\u001b[1;32m      5\u001b[0m     \u001b[0mlayers\u001b[0m\u001b[0;34m.\u001b[0m\u001b[0mDense\u001b[0m\u001b[0;34m(\u001b[0m\u001b[0mnum_classes\u001b[0m\u001b[0;34m,\u001b[0m \u001b[0mactivation\u001b[0m\u001b[0;34m=\u001b[0m\u001b[0;34m\"softmax\"\u001b[0m\u001b[0;34m)\u001b[0m\u001b[0;34m\u001b[0m\u001b[0;34m\u001b[0m\u001b[0m\n",
      "\u001b[0;32m~/.local/lib/python3.8/site-packages/tensorflow/python/keras/engine/input_layer.py\u001b[0m in \u001b[0;36m__init__\u001b[0;34m(self, input_shape, batch_size, dtype, input_tensor, sparse, name, ragged, type_spec, **kwargs)\u001b[0m\n\u001b[1;32m    135\u001b[0m         \u001b[0minput_shape\u001b[0m \u001b[0;34m=\u001b[0m \u001b[0mbatch_input_shape\u001b[0m\u001b[0;34m[\u001b[0m\u001b[0;36m1\u001b[0m\u001b[0;34m:\u001b[0m\u001b[0;34m]\u001b[0m\u001b[0;34m\u001b[0m\u001b[0;34m\u001b[0m\u001b[0m\n\u001b[1;32m    136\u001b[0m     \u001b[0;32mif\u001b[0m \u001b[0mkwargs\u001b[0m\u001b[0;34m:\u001b[0m\u001b[0;34m\u001b[0m\u001b[0;34m\u001b[0m\u001b[0m\n\u001b[0;32m--> 137\u001b[0;31m       \u001b[0;32mraise\u001b[0m \u001b[0mValueError\u001b[0m\u001b[0;34m(\u001b[0m\u001b[0;34m'Unrecognized keyword arguments:'\u001b[0m\u001b[0;34m,\u001b[0m \u001b[0mkwargs\u001b[0m\u001b[0;34m.\u001b[0m\u001b[0mkeys\u001b[0m\u001b[0;34m(\u001b[0m\u001b[0;34m)\u001b[0m\u001b[0;34m)\u001b[0m\u001b[0;34m\u001b[0m\u001b[0;34m\u001b[0m\u001b[0m\n\u001b[0m\u001b[1;32m    138\u001b[0m \u001b[0;34m\u001b[0m\u001b[0m\n\u001b[1;32m    139\u001b[0m     \u001b[0;32mif\u001b[0m \u001b[0msparse\u001b[0m \u001b[0;32mand\u001b[0m \u001b[0mragged\u001b[0m\u001b[0;34m:\u001b[0m\u001b[0;34m\u001b[0m\u001b[0;34m\u001b[0m\u001b[0m\n",
      "\u001b[0;31mValueError\u001b[0m: ('Unrecognized keyword arguments:', dict_keys(['shape']))"
     ]
    }
   ],
   "source": [
    "model = keras.Sequential([\n",
    "    keras.Input(shape=input_shape),\n",
    "    layers.Flatten(),\n",
    "    layers.Dense(50),\n",
    "    layers.Dense(num_classes, activation=\"softmax\")\n",
    "])\n",
    "\n",
    "model.compile(loss=\"categorical_crossentropy\", optimizer=\"adam\", metrics=[\"accuracy\", keras.metrics.Precision(), keras.metrics.Recall()])\n",
    "\n",
    "model.summary()"
   ]
  },
  {
   "cell_type": "code",
   "execution_count": null,
   "metadata": {},
   "outputs": [
    {
     "name": "stdout",
     "output_type": "stream",
     "text": [
      "Epoch 1/15\n",
      "422/422 [==============================] - 3s 4ms/step - loss: 0.4669 - accuracy: 0.8696 - precision_4: 0.9331 - recall_4: 0.8009 - val_loss: 0.2528 - val_accuracy: 0.9272 - val_precision_4: 0.9466 - val_recall_4: 0.9108\n",
      "Epoch 2/15\n",
      "422/422 [==============================] - 1s 3ms/step - loss: 0.3015 - accuracy: 0.9153 - precision_4: 0.9355 - recall_4: 0.8968 - val_loss: 0.2394 - val_accuracy: 0.9298 - val_precision_4: 0.9484 - val_recall_4: 0.9152\n",
      "Epoch 3/15\n",
      "422/422 [==============================] - 1s 3ms/step - loss: 0.2861 - accuracy: 0.9196 - precision_4: 0.9371 - recall_4: 0.9051 - val_loss: 0.2322 - val_accuracy: 0.9340 - val_precision_4: 0.9516 - val_recall_4: 0.9237\n",
      "Epoch 4/15\n",
      "422/422 [==============================] - 1s 3ms/step - loss: 0.2768 - accuracy: 0.9228 - precision_4: 0.9385 - recall_4: 0.9101 - val_loss: 0.2334 - val_accuracy: 0.9343 - val_precision_4: 0.9497 - val_recall_4: 0.9227\n",
      "Epoch 5/15\n",
      "422/422 [==============================] - 2s 4ms/step - loss: 0.2697 - accuracy: 0.9248 - precision_4: 0.9397 - recall_4: 0.9125 - val_loss: 0.2272 - val_accuracy: 0.9382 - val_precision_4: 0.9507 - val_recall_4: 0.9253\n",
      "Epoch 6/15\n",
      "422/422 [==============================] - 2s 5ms/step - loss: 0.2662 - accuracy: 0.9262 - precision_4: 0.9407 - recall_4: 0.9134 - val_loss: 0.2328 - val_accuracy: 0.9353 - val_precision_4: 0.9492 - val_recall_4: 0.9248\n",
      "Epoch 7/15\n",
      "422/422 [==============================] - 2s 4ms/step - loss: 0.2635 - accuracy: 0.9252 - precision_4: 0.9404 - recall_4: 0.9134 - val_loss: 0.2322 - val_accuracy: 0.9347 - val_precision_4: 0.9485 - val_recall_4: 0.9240\n",
      "Epoch 8/15\n",
      "422/422 [==============================] - 2s 4ms/step - loss: 0.2604 - accuracy: 0.9270 - precision_4: 0.9405 - recall_4: 0.9156 - val_loss: 0.2264 - val_accuracy: 0.9375 - val_precision_4: 0.9518 - val_recall_4: 0.9282\n",
      "Epoch 9/15\n",
      "422/422 [==============================] - 2s 4ms/step - loss: 0.2598 - accuracy: 0.9272 - precision_4: 0.9418 - recall_4: 0.9158 - val_loss: 0.2268 - val_accuracy: 0.9370 - val_precision_4: 0.9504 - val_recall_4: 0.9267\n",
      "Epoch 10/15\n",
      "422/422 [==============================] - 2s 4ms/step - loss: 0.2566 - accuracy: 0.9289 - precision_4: 0.9416 - recall_4: 0.9166 - val_loss: 0.2303 - val_accuracy: 0.9385 - val_precision_4: 0.9507 - val_recall_4: 0.9282\n",
      "Epoch 11/15\n",
      "422/422 [==============================] - 2s 4ms/step - loss: 0.2561 - accuracy: 0.9284 - precision_4: 0.9423 - recall_4: 0.9169 - val_loss: 0.2326 - val_accuracy: 0.9362 - val_precision_4: 0.9482 - val_recall_4: 0.9268\n",
      "Epoch 12/15\n",
      "422/422 [==============================] - 2s 4ms/step - loss: 0.2535 - accuracy: 0.9303 - precision_4: 0.9436 - recall_4: 0.9185 - val_loss: 0.2322 - val_accuracy: 0.9358 - val_precision_4: 0.9502 - val_recall_4: 0.9283\n",
      "Epoch 13/15\n",
      "422/422 [==============================] - 2s 4ms/step - loss: 0.2528 - accuracy: 0.9299 - precision_4: 0.9427 - recall_4: 0.9187 - val_loss: 0.2364 - val_accuracy: 0.9345 - val_precision_4: 0.9457 - val_recall_4: 0.9253\n",
      "Epoch 14/15\n",
      "422/422 [==============================] - 1s 3ms/step - loss: 0.2516 - accuracy: 0.9304 - precision_4: 0.9433 - recall_4: 0.9192 - val_loss: 0.2348 - val_accuracy: 0.9352 - val_precision_4: 0.9475 - val_recall_4: 0.9243\n",
      "Epoch 15/15\n",
      "422/422 [==============================] - 2s 4ms/step - loss: 0.2506 - accuracy: 0.9304 - precision_4: 0.9432 - recall_4: 0.9186 - val_loss: 0.2347 - val_accuracy: 0.9347 - val_precision_4: 0.9465 - val_recall_4: 0.9263\n"
     ]
    },
    {
     "data": {
      "text/plain": [
       "<tensorflow.python.keras.callbacks.History at 0x7fccacdbe7f0>"
      ]
     },
     "execution_count": 32,
     "metadata": {},
     "output_type": "execute_result"
    }
   ],
   "source": [
    "\n",
    "model.fit(x_train, y_train, batch_size=batch_size, epochs=epochs, validation_split=0.1)\n"
   ]
  },
  {
   "cell_type": "code",
   "execution_count": null,
   "metadata": {},
   "outputs": [
    {
     "data": {
      "text/plain": [
       "0    0.976531\n",
       "1    0.975330\n",
       "2    0.891473\n",
       "3    0.939604\n",
       "4    0.948065\n",
       "5    0.859865\n",
       "6    0.941545\n",
       "7    0.930934\n",
       "8    0.876797\n",
       "9    0.892963\n",
       "Name: Accuracy per class, dtype: float64"
      ]
     },
     "execution_count": 33,
     "metadata": {},
     "output_type": "execute_result"
    }
   ],
   "source": [
    "accuracy_per_class(model)"
   ]
  },
  {
   "cell_type": "code",
   "execution_count": null,
   "metadata": {},
   "outputs": [
    {
     "data": {
      "text/plain": [
       "Accuracy     0.924500\n",
       "Precision    0.935937\n",
       "Recall       0.913100\n",
       "dtype: float64"
      ]
     },
     "execution_count": 34,
     "metadata": {},
     "output_type": "execute_result"
    }
   ],
   "source": [
    "accuracy_precision_recall(model)"
   ]
  }
 ],
 "metadata": {
  "interpreter": {
   "hash": "31f2aee4e71d21fbe5cf8b01ff0e069b9275f58929596ceb00d14d90e3e16cd6"
  },
  "kernelspec": {
   "display_name": "Python 3.8.10 64-bit",
   "name": "python3"
  },
  "language_info": {
   "codemirror_mode": {
    "name": "ipython",
    "version": 3
   },
   "file_extension": ".py",
   "mimetype": "text/x-python",
   "name": "python",
   "nbconvert_exporter": "python",
   "pygments_lexer": "ipython3",
   "version": "3.8.10"
  },
  "orig_nbformat": 4
 },
 "nbformat": 4,
 "nbformat_minor": 2
}