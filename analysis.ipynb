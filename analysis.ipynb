{
  "metadata": {
    "language_info": {
      "codemirror_mode": {
        "name": "ipython",
        "version": 3
      },
      "file_extension": ".py",
      "mimetype": "text/x-python",
      "name": "python",
      "nbconvert_exporter": "python",
      "pygments_lexer": "ipython3",
      "version": "3.9.1"
    },
    "orig_nbformat": 4,
    "kernelspec": {
      "name": "python3",
      "display_name": "Python 3.9.1 64-bit ('base': conda)"
    },
    "interpreter": {
      "hash": "828347deea3abc4070f76cfb51056c59301b7e5e4ab6780ef22839cb4d850b58"
    }
  },
  "nbformat": 4,
  "nbformat_minor": 2,
  "cells": [
    {
      "cell_type": "markdown",
      "metadata": {
        "id": "IdYwGVdVBDXC"
      },
      "source": [
        "# Classificando o dataset MNIST usando MLPs e CNNs\n",
        "\n",
        "### Membros\n",
        "\n",
        "* Gabriel Pessoa\n",
        "* Ícaro Guerra\n",
        "* Lucas Barros\n",
        "* Matheus Pessoa\n",
        "* Rafael Mota\n",
        "\n",
        "## Introdução\n",
        "Esse relatório detalha o processo experimental do desenvolvimento de uma solução para o problema de classificação de dígitos escritos manualmente do dataset MNIST, usando Redes Neurais dos tipos: Multilayer Perceptron (MLP) e Convolutional Neural Network (CNN). O dataset MNIST consiste em 70 mil imagens 28x28 dos dígitos de 0 a 9, sendo 60 mil samples de treinamento e 10 mil samples de teste.\n",
        "\n",
        "## Bibliotecas Utilizadas\n",
        "Para a implementação utilzaremos as seguintes bibliotecas:\n"
      ]
    },
    {
      "cell_type": "code",
      "metadata": {
        "id": "rMf4KMyKBDXE"
      },
      "source": [
        "import numpy as np\n",
        "import pandas as pd\n",
        "from tensorflow import keras\n",
        "from tensorflow.keras import layers\n",
        "from tensorflow.keras.callbacks import EarlyStopping\n",
        "from tensorflow.keras.optimizers import SGD, Adam"
      ],
      "execution_count": 53,
      "outputs": []
    },
    {
      "cell_type": "markdown",
      "metadata": {
        "id": "S-y6y8BcBDXF"
      },
      "source": [
        "* O Numpy e o Pandas são usados para a representação dos dados e para a implementação de funções auxiliares.\n",
        "\n",
        "* Tensorflow e Keras são usados para a implementação e treinamento das Redes Neurais.\n",
        "\n",
        "## Carregamento dos Dados\n",
        "O código a seguir carrega os dados do dataset, adapta ao formato desejado e define os parâmetros globais sobre os dados."
      ]
    },
    {
      "cell_type": "code",
      "metadata": {
        "colab": {
          "base_uri": "https://localhost:8080/"
        },
        "id": "m5xK3lQCBDXF",
        "outputId": "79fc0906-070d-4f45-a124-1f1b4e415cc6"
      },
      "source": [
        "# Model / data parameters\n",
        "num_classes = 10\n",
        "input_shape = (28, 28, 1)\n",
        "\n",
        "# the data, split between train and test sets\n",
        "(x_train, y_train), (x_test, y_test) = keras.datasets.mnist.load_data()\n",
        "\n",
        "# Scale images to the [0, 1] range\n",
        "x_train = x_train.astype(\"float32\") / 255\n",
        "x_test = x_test.astype(\"float32\") / 255\n",
        "# Make sure images have shape (28, 28, 1)\n",
        "x_train = np.expand_dims(x_train, -1)\n",
        "x_test = np.expand_dims(x_test, -1)\n",
        "print(\"x_train shape:\", x_train.shape)\n",
        "print(x_train.shape[0], \"train samples\")\n",
        "print(x_test.shape[0], \"test samples\")\n",
        "\n",
        "# convert class vectors to binary class matrices\n",
        "y_train = keras.utils.to_categorical(y_train, num_classes)\n",
        "y_test = keras.utils.to_categorical(y_test, num_classes)\n"
      ],
      "execution_count": 54,
      "outputs": [
        {
          "output_type": "stream",
          "name": "stdout",
          "text": [
            "x_train shape: (60000, 28, 28, 1)\n60000 train samples\n10000 test samples\n"
          ]
        }
      ]
    },
    {
      "cell_type": "markdown",
      "metadata": {
        "id": "WsOJj-rEBDXF"
      },
      "source": [
        "## Parâmetros de Treinamento\n",
        "Aqui definimos os parâmetros de treinamento que serão utilizados para todas as redes neurais. A escolha da quantidade de epochs e batch_size foi feita para que tenhamos maior perfomance e mais dinamicidade no experimento com os treinamentos."
      ]
    },
    {
      "cell_type": "code",
      "metadata": {
        "id": "VMAHP10nBDXG"
      },
      "source": [
        "# Training parameters\n",
        "epochs = 30\n",
        "batch_size = 128\n",
        "verbose = 0\n",
        "\n",
        "metrics = [\"accuracy\", keras.metrics.Precision(), keras.metrics.Recall()]"
      ],
      "execution_count": 55,
      "outputs": []
    },
    {
      "cell_type": "markdown",
      "metadata": {
        "id": "vKcrMZbtBDXG"
      },
      "source": [
        "## Funções de Avaliação\n",
        "Aqui definimos as duas funções que vamos usar para avaliar as soluções. A primeira função `accuracy_per_class` retorna a métrica de *accuracy* para cada uma das classes de resposta, que no nosso caso, são os possíveis dígitos de 0 a 9. A segunda função `accuracy_precision_recall` retorna as métricas *accuracy*, *precision* e *recall* total.\n",
        "\n",
        "Um breve descrição das métricas citadas seria:\n",
        "\n",
        "* *accuracy*: Proporção de predição corretas com o total de casos.\n",
        "* *precision*: Proporção de predições positivas corretas com o total de predições positivas da classe.\n",
        "* *recall*: Proporção de predições positivas corretas com o total de casos da classe."
      ]
    },
    {
      "cell_type": "code",
      "metadata": {
        "id": "BXOm9MIvBDXG"
      },
      "source": [
        "def accuracy_per_class(model):\n",
        "    y_pred = model.predict(x_test)\n",
        "\n",
        "    correct = [0] * num_classes\n",
        "    total = [0] * num_classes\n",
        "\n",
        "    for real, pred in zip(y_test.argmax(axis=1), y_pred.argmax(axis=1)):\n",
        "        if real == pred:\n",
        "            correct[real] += 1\n",
        "        total[real] += 1\n",
        "\n",
        "    accuracies = []\n",
        "    for correct, total in zip(correct, total):\n",
        "        accuracies.append(correct / total)\n",
        "\n",
        "    return pd.Series(data=accuracies, index=range(0,num_classes), name=\"Accuracy per class\")\n",
        "\n",
        "def accuracy_precision_recall(model):\n",
        "    _, acc, prec, rec = model.evaluate(x_test, y_test,verbose=0)\n",
        "\n",
        "    return pd.Series(data=[acc, prec, rec],index=[\"Accuracy\", \"Precision\", \"Recall\"])"
      ],
      "execution_count": 56,
      "outputs": []
    },
    {
      "cell_type": "markdown",
      "metadata": {
        "id": "jgeBws6TBDXH"
      },
      "source": [
        "## Experimentação\n",
        "\n",
        "A seguir começaremos a fase de experimentação, testando diferentes modelos de Redes Neurais e de aprendizado para achar uma solução para o problema de classificação do dataset MNIST.\n",
        "\n",
        "\n",
        "### MLP 1\n",
        "Primeiramente, vamos usar uma rede neural MLP simples com as seguintes camadas:\n",
        "* Uma camada de entrada com um neuron para cada um dos pixels da imagem;\n",
        "* Uma camada oculta com 50 neurons;\n",
        "* Uma camada de saída com ativação softmax, com um neuron para cada possível saída, no nosso caso, 10;\n",
        "\n",
        "Essa estrutura será reutilizada em futuras redes, podendo variar os parâmetros de aprendizado e a estrutura das camadas ocultas."
      ]
    },
    {
      "cell_type": "code",
      "metadata": {
        "id": "3uTgvgwxBDXH",
        "outputId": "28162a7b-805a-48d5-be97-effa1fa98922"
      },
      "source": [
        "model = keras.Sequential([\n",
        "    keras.Input(shape=input_shape),\n",
        "    layers.Flatten(),\n",
        "    layers.Dense(50),\n",
        "    layers.Dense(num_classes, activation=\"softmax\")\n",
        "])\n",
        "\n",
        "model.compile(loss=\"categorical_crossentropy\", optimizer=SGD(), metrics=metrics)\n",
        "\n",
        "model.summary()"
      ],
      "execution_count": 57,
      "outputs": [
        {
          "output_type": "stream",
          "name": "stdout",
          "text": [
            "WARNING:tensorflow:Please add `keras.layers.InputLayer` instead of `keras.Input` to Sequential model. `keras.Input` is intended to be used by Functional model.\n",
            "Model: \"sequential_15\"\n",
            "_________________________________________________________________\n",
            "Layer (type)                 Output Shape              Param #   \n",
            "=================================================================\n",
            "flatten_15 (Flatten)         (None, 784)               0         \n",
            "_________________________________________________________________\n",
            "dense_31 (Dense)             (None, 50)                39250     \n",
            "_________________________________________________________________\n",
            "dense_32 (Dense)             (None, 10)                510       \n",
            "=================================================================\n",
            "Total params: 39,760\n",
            "Trainable params: 39,760\n",
            "Non-trainable params: 0\n",
            "_________________________________________________________________\n"
          ]
        }
      ]
    },
    {
      "cell_type": "code",
      "metadata": {
        "tags": [],
        "id": "-F22tLt2BDXH",
        "outputId": "942b4243-d86c-40ac-953f-d2949df4626d"
      },
      "source": [
        "\n",
        "model.fit(x_train, y_train, batch_size=batch_size, epochs=epochs, validation_split=0.1, verbose=verbose)\n"
      ],
      "execution_count": 58,
      "outputs": [
        {
          "output_type": "execute_result",
          "data": {
            "text/plain": [
              "<tensorflow.python.keras.callbacks.History at 0x7f34686b4af0>"
            ]
          },
          "metadata": {},
          "execution_count": 58
        }
      ]
    },
    {
      "cell_type": "code",
      "metadata": {
        "id": "uw1h01_ZBDXI",
        "outputId": "735250eb-8455-4310-f164-21e7ed23e314"
      },
      "source": [
        "accuracy_per_class(model)"
      ],
      "execution_count": 59,
      "outputs": [
        {
          "output_type": "execute_result",
          "data": {
            "text/plain": [
              "0    0.978571\n",
              "1    0.977093\n",
              "2    0.894380\n",
              "3    0.909901\n",
              "4    0.935845\n",
              "5    0.867713\n",
              "6    0.943633\n",
              "7    0.915370\n",
              "8    0.883984\n",
              "9    0.888999\n",
              "Name: Accuracy per class, dtype: float64"
            ]
          },
          "metadata": {},
          "execution_count": 59
        }
      ]
    },
    {
      "cell_type": "code",
      "metadata": {
        "id": "2cCrPf9eBDXI",
        "outputId": "aebe4124-fb9f-442e-878e-5c7e38bcbb3a"
      },
      "source": [
        "accuracy_precision_recall(model)"
      ],
      "execution_count": 60,
      "outputs": [
        {
          "output_type": "execute_result",
          "data": {
            "text/plain": [
              "Accuracy     0.920600\n",
              "Precision    0.939435\n",
              "Recall       0.904300\n",
              "dtype: float64"
            ]
          },
          "metadata": {},
          "execution_count": 60
        }
      ]
    },
    {
      "cell_type": "markdown",
      "metadata": {
        "id": "cUK6eSgYBDXI"
      },
      "source": [
        "Como podemos observar, uma rede neural simples já acerta grande parte dos casos do Dataset."
      ]
    },
    {
      "cell_type": "markdown",
      "metadata": {
        "id": "FvSTOxv9BDXI"
      },
      "source": [
        "### MLP 2\n",
        "A seguir verificamos o impacto de aumentar a quantidade de neurons na mesma camada, conservando os demais parâmetros."
      ]
    },
    {
      "cell_type": "code",
      "metadata": {
        "id": "zOAXM0_HBDXJ",
        "outputId": "9a50cf9f-a669-489b-ce2f-204fa9e4e895"
      },
      "source": [
        "model2 = keras.Sequential([\n",
        "    keras.Input(shape=input_shape),\n",
        "    layers.Flatten(),\n",
        "    layers.Dense(400),\n",
        "    layers.Dense(num_classes, activation=\"softmax\")\n",
        "])\n",
        "\n",
        "model2.compile(loss=\"categorical_crossentropy\", optimizer=SGD(), metrics=metrics)\n",
        "\n",
        "model2.summary()"
      ],
      "execution_count": 61,
      "outputs": [
        {
          "output_type": "stream",
          "name": "stdout",
          "text": [
            "WARNING:tensorflow:Please add `keras.layers.InputLayer` instead of `keras.Input` to Sequential model. `keras.Input` is intended to be used by Functional model.\n",
            "Model: \"sequential_16\"\n",
            "_________________________________________________________________\n",
            "Layer (type)                 Output Shape              Param #   \n",
            "=================================================================\n",
            "flatten_16 (Flatten)         (None, 784)               0         \n",
            "_________________________________________________________________\n",
            "dense_33 (Dense)             (None, 400)               314000    \n",
            "_________________________________________________________________\n",
            "dense_34 (Dense)             (None, 10)                4010      \n",
            "=================================================================\n",
            "Total params: 318,010\n",
            "Trainable params: 318,010\n",
            "Non-trainable params: 0\n",
            "_________________________________________________________________\n"
          ]
        }
      ]
    },
    {
      "cell_type": "code",
      "metadata": {
        "id": "xkg99CN4BDXJ",
        "outputId": "be18498d-1563-4b73-f4f5-a79c3fe4bbc8"
      },
      "source": [
        "model2.fit(x_train, y_train, batch_size=batch_size, epochs=epochs, validation_split=0.1, verbose=verbose)"
      ],
      "execution_count": 62,
      "outputs": [
        {
          "output_type": "execute_result",
          "data": {
            "text/plain": [
              "<tensorflow.python.keras.callbacks.History at 0x7f3468404760>"
            ]
          },
          "metadata": {},
          "execution_count": 62
        }
      ]
    },
    {
      "cell_type": "code",
      "metadata": {
        "id": "Loi9ryGuBDXJ",
        "outputId": "5f109cd2-e157-4210-b668-2a428a9c8f73"
      },
      "source": [
        "accuracy_precision_recall(model2)"
      ],
      "execution_count": 63,
      "outputs": [
        {
          "output_type": "execute_result",
          "data": {
            "text/plain": [
              "Accuracy     0.920800\n",
              "Precision    0.940401\n",
              "Recall       0.905700\n",
              "dtype: float64"
            ]
          },
          "metadata": {},
          "execution_count": 63
        }
      ]
    },
    {
      "cell_type": "markdown",
      "metadata": {
        "id": "9eetEkp_BDXJ"
      },
      "source": [
        "Podemos verificar que não houve um ganho de desempenho significativo com o aumento de neurons na camada oculta (aproximadamente 0.001 de *precision* e *accuracy*)"
      ]
    },
    {
      "cell_type": "markdown",
      "metadata": {
        "id": "7Z3ef_bGBDXK"
      },
      "source": [
        "### MLP 3\n",
        "Podemos tentar também adicionar mais uma camada oculta de neurons:"
      ]
    },
    {
      "cell_type": "code",
      "metadata": {
        "id": "FxWIeGTgBDXK",
        "outputId": "78d8cb62-cf99-430f-b4a1-1fac3ad82218"
      },
      "source": [
        "model2 = keras.Sequential([\n",
        "    keras.Input(shape=input_shape),\n",
        "    layers.Flatten(),\n",
        "    layers.Dense(300),\n",
        "    layers.Dense(100),\n",
        "    layers.Dense(num_classes, activation=\"softmax\")\n",
        "])\n",
        "\n",
        "model2.compile(loss=\"categorical_crossentropy\", optimizer=SGD(), metrics=metrics)\n",
        "\n",
        "model2.summary()"
      ],
      "execution_count": 64,
      "outputs": [
        {
          "output_type": "stream",
          "name": "stdout",
          "text": [
            "WARNING:tensorflow:Please add `keras.layers.InputLayer` instead of `keras.Input` to Sequential model. `keras.Input` is intended to be used by Functional model.\n",
            "Model: \"sequential_17\"\n",
            "_________________________________________________________________\n",
            "Layer (type)                 Output Shape              Param #   \n",
            "=================================================================\n",
            "flatten_17 (Flatten)         (None, 784)               0         \n",
            "_________________________________________________________________\n",
            "dense_35 (Dense)             (None, 300)               235500    \n",
            "_________________________________________________________________\n",
            "dense_36 (Dense)             (None, 100)               30100     \n",
            "_________________________________________________________________\n",
            "dense_37 (Dense)             (None, 10)                1010      \n",
            "=================================================================\n",
            "Total params: 266,610\n",
            "Trainable params: 266,610\n",
            "Non-trainable params: 0\n",
            "_________________________________________________________________\n"
          ]
        }
      ]
    },
    {
      "cell_type": "code",
      "metadata": {
        "id": "diHwWQJzBDXK",
        "outputId": "3038f21d-e32c-4a87-d108-077732b76bd0"
      },
      "source": [
        "model2.fit(x_train, y_train, batch_size=batch_size, epochs=epochs, validation_split=0.1, verbose=verbose)"
      ],
      "execution_count": 65,
      "outputs": [
        {
          "output_type": "execute_result",
          "data": {
            "text/plain": [
              "<tensorflow.python.keras.callbacks.History at 0x7f3468152b20>"
            ]
          },
          "metadata": {},
          "execution_count": 65
        }
      ]
    },
    {
      "cell_type": "code",
      "metadata": {
        "id": "KCkoJ3m0BDXK",
        "outputId": "e4235282-d9ba-4ee3-ed78-91cb58eeb664"
      },
      "source": [
        "accuracy_precision_recall(model2)"
      ],
      "execution_count": 66,
      "outputs": [
        {
          "output_type": "execute_result",
          "data": {
            "text/plain": [
              "Accuracy     0.922300\n",
              "Precision    0.939184\n",
              "Recall       0.909600\n",
              "dtype: float64"
            ]
          },
          "metadata": {},
          "execution_count": 66
        }
      ]
    },
    {
      "cell_type": "markdown",
      "metadata": {
        "id": "8E4j4TGSBDXK"
      },
      "source": [
        "Verificamos que houve um pequeno ganho de perfomance (aumento de 0.001 na *accuracy* comparado com o anterior), e que o processo de treinamento e predição ficaram bem mais lentos."
      ]
    },
    {
      "cell_type": "markdown",
      "metadata": {
        "id": "NGTPZR_HBDXK"
      },
      "source": [
        "### MLP 4\n",
        "Outro parâmetro que podemos variar é a função de ativação. O default para a biblioteca é a função linear, que não é muito recomendada para problemas não linearmente separáveis. Vamos verificar com o a função sigmoid."
      ]
    },
    {
      "cell_type": "code",
      "metadata": {
        "colab": {
          "base_uri": "https://localhost:8080/"
        },
        "id": "QoZ6AQICBDXL",
        "outputId": "8c7e5c79-2f11-4546-f4b2-56c1d8ad1b14"
      },
      "source": [
        "model3 = keras.Sequential([\n",
        "    keras.Input(shape=input_shape),\n",
        "    layers.Flatten(),\n",
        "    layers.Dense(400, activation=\"sigmoid\"),\n",
        "    layers.Dense(num_classes, activation=\"softmax\")\n",
        "])\n",
        "\n",
        "model3.compile(loss=\"categorical_crossentropy\", optimizer=SGD(), metrics=metrics)\n",
        "\n",
        "model3.summary()"
      ],
      "execution_count": 67,
      "outputs": [
        {
          "output_type": "stream",
          "name": "stdout",
          "text": [
            "WARNING:tensorflow:Please add `keras.layers.InputLayer` instead of `keras.Input` to Sequential model. `keras.Input` is intended to be used by Functional model.\n",
            "Model: \"sequential_18\"\n",
            "_________________________________________________________________\n",
            "Layer (type)                 Output Shape              Param #   \n",
            "=================================================================\n",
            "flatten_18 (Flatten)         (None, 784)               0         \n",
            "_________________________________________________________________\n",
            "dense_38 (Dense)             (None, 400)               314000    \n",
            "_________________________________________________________________\n",
            "dense_39 (Dense)             (None, 10)                4010      \n",
            "=================================================================\n",
            "Total params: 318,010\n",
            "Trainable params: 318,010\n",
            "Non-trainable params: 0\n",
            "_________________________________________________________________\n"
          ]
        }
      ]
    },
    {
      "cell_type": "code",
      "metadata": {
        "colab": {
          "base_uri": "https://localhost:8080/"
        },
        "id": "lyctVWnKBDXL",
        "outputId": "d620382c-c25f-4023-cb04-198858b5f708"
      },
      "source": [
        "model3.fit(x_train, y_train, batch_size=batch_size, epochs=epochs, validation_split=0.1, verbose=verbose)"
      ],
      "execution_count": 68,
      "outputs": [
        {
          "output_type": "execute_result",
          "data": {
            "text/plain": [
              "<tensorflow.python.keras.callbacks.History at 0x7f3461eefa00>"
            ]
          },
          "metadata": {},
          "execution_count": 68
        }
      ]
    },
    {
      "cell_type": "code",
      "metadata": {
        "colab": {
          "base_uri": "https://localhost:8080/"
        },
        "id": "4jHIXehhBDXL",
        "outputId": "ac36ded2-7dda-4549-f90f-720214218c49"
      },
      "source": [
        "accuracy_precision_recall(model3)"
      ],
      "execution_count": 69,
      "outputs": [
        {
          "output_type": "execute_result",
          "data": {
            "text/plain": [
              "Accuracy     0.907400\n",
              "Precision    0.939803\n",
              "Recall       0.877400\n",
              "dtype: float64"
            ]
          },
          "metadata": {},
          "execution_count": 69
        }
      ]
    },
    {
      "cell_type": "markdown",
      "metadata": {
        "id": "SxjQ6P0NBDXL"
      },
      "source": [
        "Usando a função de ativação sigmoid houve uma piora significativa no desempenho."
      ]
    },
    {
      "cell_type": "markdown",
      "metadata": {
        "id": "cE2RTlQMBDXL"
      },
      "source": [
        "### MLP 5\n",
        "Vamos testar agora com a função de ativação ReLU."
      ]
    },
    {
      "cell_type": "code",
      "metadata": {
        "id": "bSyETgYpBDXL",
        "outputId": "44045f3c-1b6d-4876-d466-2884b7a1a16b"
      },
      "source": [
        "model4 = keras.Sequential([\n",
        "    keras.Input(shape=input_shape),\n",
        "    layers.Flatten(),\n",
        "    layers.Dense(400, activation=\"relu\"),\n",
        "    layers.Dense(num_classes, activation=\"softmax\")\n",
        "])\n",
        "\n",
        "model4.compile(loss=\"categorical_crossentropy\", optimizer=SGD(), metrics=metrics)\n",
        "\n",
        "model4.summary()"
      ],
      "execution_count": 70,
      "outputs": [
        {
          "output_type": "stream",
          "name": "stdout",
          "text": [
            "WARNING:tensorflow:Please add `keras.layers.InputLayer` instead of `keras.Input` to Sequential model. `keras.Input` is intended to be used by Functional model.\n",
            "Model: \"sequential_19\"\n",
            "_________________________________________________________________\n",
            "Layer (type)                 Output Shape              Param #   \n",
            "=================================================================\n",
            "flatten_19 (Flatten)         (None, 784)               0         \n",
            "_________________________________________________________________\n",
            "dense_40 (Dense)             (None, 400)               314000    \n",
            "_________________________________________________________________\n",
            "dense_41 (Dense)             (None, 10)                4010      \n",
            "=================================================================\n",
            "Total params: 318,010\n",
            "Trainable params: 318,010\n",
            "Non-trainable params: 0\n",
            "_________________________________________________________________\n"
          ]
        }
      ]
    },
    {
      "cell_type": "code",
      "metadata": {
        "id": "pzaSUKRnBDXM",
        "outputId": "9df1ec78-e4b2-4545-eaa4-432508ec91dc"
      },
      "source": [
        "model4.fit(x_train, y_train, batch_size=batch_size, epochs=epochs, validation_split=0.1, verbose=verbose)"
      ],
      "execution_count": 71,
      "outputs": [
        {
          "output_type": "execute_result",
          "data": {
            "text/plain": [
              "<tensorflow.python.keras.callbacks.History at 0x7f346010a8e0>"
            ]
          },
          "metadata": {},
          "execution_count": 71
        }
      ]
    },
    {
      "cell_type": "code",
      "metadata": {
        "id": "3711tIiGBDXM",
        "outputId": "3b48bd6f-9378-4798-87d2-217299241247"
      },
      "source": [
        "accuracy_precision_recall(model4)"
      ],
      "execution_count": 72,
      "outputs": [
        {
          "output_type": "execute_result",
          "data": {
            "text/plain": [
              "Accuracy     0.947800\n",
              "Precision    0.962239\n",
              "Recall       0.935200\n",
              "dtype: float64"
            ]
          },
          "metadata": {},
          "execution_count": 72
        }
      ]
    },
    {
      "cell_type": "markdown",
      "metadata": {
        "id": "ONtJ2NoOBDXM"
      },
      "source": [
        "Com a função de ativação ReLU houve uma melhora considerável de desempenho em relação às execuções usando outras funções de ativação."
      ]
    },
    {
      "cell_type": "markdown",
      "metadata": {
        "id": "pOA-dr1dBDXM"
      },
      "source": [
        "### MLP 6\n",
        "Agora, podemos tentar adicionar uma nova camada na rede, dessa vez usando a função de ativação ReLU:\n"
      ]
    },
    {
      "cell_type": "code",
      "metadata": {
        "id": "pmbmFDB0BDXM",
        "outputId": "ae777e7e-65ec-4061-ce55-bb3a30d34e0b"
      },
      "source": [
        "model5 = keras.Sequential([\n",
        "    keras.Input(shape=input_shape),\n",
        "    layers.Flatten(),\n",
        "    layers.Dense(400, activation=\"relu\"),\n",
        "    layers.Dense(300, activation=\"relu\"),\n",
        "    layers.Dense(num_classes, activation=\"softmax\")\n",
        "])\n",
        "\n",
        "model5.compile(loss=\"categorical_crossentropy\", optimizer=SGD(), metrics=metrics)\n",
        "\n",
        "model5.summary()"
      ],
      "execution_count": 73,
      "outputs": [
        {
          "output_type": "stream",
          "name": "stdout",
          "text": [
            "WARNING:tensorflow:Please add `keras.layers.InputLayer` instead of `keras.Input` to Sequential model. `keras.Input` is intended to be used by Functional model.\n",
            "Model: \"sequential_20\"\n",
            "_________________________________________________________________\n",
            "Layer (type)                 Output Shape              Param #   \n",
            "=================================================================\n",
            "flatten_20 (Flatten)         (None, 784)               0         \n",
            "_________________________________________________________________\n",
            "dense_42 (Dense)             (None, 400)               314000    \n",
            "_________________________________________________________________\n",
            "dense_43 (Dense)             (None, 300)               120300    \n",
            "_________________________________________________________________\n",
            "dense_44 (Dense)             (None, 10)                3010      \n",
            "=================================================================\n",
            "Total params: 437,310\n",
            "Trainable params: 437,310\n",
            "Non-trainable params: 0\n",
            "_________________________________________________________________\n"
          ]
        }
      ]
    },
    {
      "cell_type": "code",
      "metadata": {
        "id": "kXQz0PbPBDXM",
        "outputId": "09172492-3c05-4583-b90e-b2eda52af21a"
      },
      "source": [
        "model5.fit(x_train, y_train, batch_size=batch_size, epochs=epochs, validation_split=0.1, verbose=verbose)"
      ],
      "execution_count": 74,
      "outputs": [
        {
          "output_type": "execute_result",
          "data": {
            "text/plain": [
              "<tensorflow.python.keras.callbacks.History at 0x7f3450668910>"
            ]
          },
          "metadata": {},
          "execution_count": 74
        }
      ]
    },
    {
      "cell_type": "code",
      "metadata": {
        "id": "3kcaa8ygBDXN",
        "outputId": "38ab2c3e-8438-4273-803b-2b04c5580763"
      },
      "source": [
        "accuracy_precision_recall(model5)"
      ],
      "execution_count": 75,
      "outputs": [
        {
          "output_type": "execute_result",
          "data": {
            "text/plain": [
              "Accuracy     0.960900\n",
              "Precision    0.969051\n",
              "Recall       0.955000\n",
              "dtype: float64"
            ]
          },
          "metadata": {},
          "execution_count": 75
        }
      ]
    },
    {
      "cell_type": "markdown",
      "metadata": {
        "id": "fO2-v35MBDXM"
      },
      "source": [
        "O tempo para treinamento e predição aumentou mas houve um melhora considerável na *accuracy* da rede usando 2 camadas de neurons com a função de ativação ReLU."
      ]
    },
    {
      "cell_type": "markdown",
      "metadata": {
        "id": "Q03HxidIBDXN"
      },
      "source": [
        "### MLP 7\n",
        "\n",
        "Em seguida, podemos testar variar a taxa de aprendizado, o valor padrão para esse parâmetro na biblioteca Keras é 0.01, vamos experimentar aumentar esse valor:"
      ]
    },
    {
      "cell_type": "code",
      "metadata": {
        "id": "FhZeZmjcBDXN",
        "outputId": "2e13bfb2-0d7f-4ed0-898d-1177e78dedc5"
      },
      "source": [
        "model6 = keras.Sequential([\n",
        "    keras.Input(shape=input_shape),\n",
        "    layers.Flatten(),\n",
        "    layers.Dense(400, activation=\"relu\"),\n",
        "    layers.Dense(300, activation=\"relu\"),\n",
        "    layers.Dense(num_classes, activation=\"softmax\")\n",
        "])\n",
        "\n",
        "model6.compile(loss=\"categorical_crossentropy\", optimizer=SGD(0.2), metrics=metrics)\n",
        "\n",
        "model6.summary()"
      ],
      "execution_count": 76,
      "outputs": [
        {
          "output_type": "stream",
          "name": "stdout",
          "text": [
            "WARNING:tensorflow:Please add `keras.layers.InputLayer` instead of `keras.Input` to Sequential model. `keras.Input` is intended to be used by Functional model.\n",
            "Model: \"sequential_21\"\n",
            "_________________________________________________________________\n",
            "Layer (type)                 Output Shape              Param #   \n",
            "=================================================================\n",
            "flatten_21 (Flatten)         (None, 784)               0         \n",
            "_________________________________________________________________\n",
            "dense_45 (Dense)             (None, 400)               314000    \n",
            "_________________________________________________________________\n",
            "dense_46 (Dense)             (None, 300)               120300    \n",
            "_________________________________________________________________\n",
            "dense_47 (Dense)             (None, 10)                3010      \n",
            "=================================================================\n",
            "Total params: 437,310\n",
            "Trainable params: 437,310\n",
            "Non-trainable params: 0\n",
            "_________________________________________________________________\n"
          ]
        }
      ]
    },
    {
      "cell_type": "code",
      "metadata": {
        "id": "W--MxXAuBDXN",
        "outputId": "6de975e9-3d06-4208-d60e-bbe3da63dfdd"
      },
      "source": [
        "model6.fit(x_train, y_train, batch_size=batch_size, epochs=epochs, validation_split=0.1, verbose=verbose)"
      ],
      "execution_count": 77,
      "outputs": [
        {
          "output_type": "execute_result",
          "data": {
            "text/plain": [
              "<tensorflow.python.keras.callbacks.History at 0x7f345042c280>"
            ]
          },
          "metadata": {},
          "execution_count": 77
        }
      ]
    },
    {
      "cell_type": "code",
      "metadata": {
        "id": "iQrNTmhNBDXN",
        "outputId": "47e9a9d6-ce77-441d-9a69-08c59e903d43"
      },
      "source": [
        "accuracy_precision_recall(model6)"
      ],
      "execution_count": 78,
      "outputs": [
        {
          "output_type": "execute_result",
          "data": {
            "text/plain": [
              "Accuracy     0.982200\n",
              "Precision    0.982785\n",
              "Recall       0.981900\n",
              "dtype: float64"
            ]
          },
          "metadata": {},
          "execution_count": 78
        }
      ]
    },
    {
      "cell_type": "markdown",
      "metadata": {
        "id": "948Z29LiBDXN"
      },
      "source": [
        "Obtemos uma melhora em relação ao resultado anterior. Isso provavelmente acontece por estarmos executando com uma quantidade limitada de épocas, fazendo com que uma taxa de ativação maior faça a rede neural convergir mais rápidamente."
      ]
    },
    {
      "cell_type": "markdown",
      "metadata": {
        "id": "A-VkwfByBDXO"
      },
      "source": [
        "### MLP 8\n",
        "\n",
        "Podemos também usar uma técnica de regularização chamada de Drop-out, que no processo de treinamento \"ignora\" uma porcentagem dos neurons a cada iteração. Essa técnica tem como objetivo distribuir o \"trabalho\" de reconhecimento das classes entre diversos neurons, o que pode ajudar a reduzir o overfitting. "
      ]
    },
    {
      "cell_type": "code",
      "metadata": {
        "id": "wW6cxtS0BDXO",
        "outputId": "288bde0e-965b-4421-9b3c-a18c16197d4d"
      },
      "source": [
        "model7 = keras.Sequential([\n",
        "    keras.Input(shape=input_shape),\n",
        "    layers.Flatten(),\n",
        "    layers.Dropout(0.2),\n",
        "    layers.Dense(400, activation=\"relu\"),\n",
        "    layers.Dropout(0.2),\n",
        "    layers.Dense(300, activation=\"relu\"),\n",
        "    layers.Dense(num_classes, activation=\"softmax\")\n",
        "])\n",
        "\n",
        "model7.compile(loss=\"categorical_crossentropy\", optimizer=SGD(0.2), metrics=metrics)\n",
        "\n",
        "model7.summary()"
      ],
      "execution_count": 79,
      "outputs": [
        {
          "output_type": "stream",
          "name": "stdout",
          "text": [
            "WARNING:tensorflow:Please add `keras.layers.InputLayer` instead of `keras.Input` to Sequential model. `keras.Input` is intended to be used by Functional model.\n",
            "Model: \"sequential_22\"\n",
            "_________________________________________________________________\n",
            "Layer (type)                 Output Shape              Param #   \n",
            "=================================================================\n",
            "flatten_22 (Flatten)         (None, 784)               0         \n",
            "_________________________________________________________________\n",
            "dropout_7 (Dropout)          (None, 784)               0         \n",
            "_________________________________________________________________\n",
            "dense_48 (Dense)             (None, 400)               314000    \n",
            "_________________________________________________________________\n",
            "dropout_8 (Dropout)          (None, 400)               0         \n",
            "_________________________________________________________________\n",
            "dense_49 (Dense)             (None, 300)               120300    \n",
            "_________________________________________________________________\n",
            "dense_50 (Dense)             (None, 10)                3010      \n",
            "=================================================================\n",
            "Total params: 437,310\n",
            "Trainable params: 437,310\n",
            "Non-trainable params: 0\n",
            "_________________________________________________________________\n"
          ]
        }
      ]
    },
    {
      "cell_type": "code",
      "metadata": {
        "id": "jN_nU3DFBDXO",
        "outputId": "d080cc81-068b-4287-872a-70ab4ba0bc52"
      },
      "source": [
        "model7.fit(x_train, y_train, batch_size=batch_size, epochs=epochs, validation_split=0.1, verbose=verbose)"
      ],
      "execution_count": 80,
      "outputs": [
        {
          "output_type": "execute_result",
          "data": {
            "text/plain": [
              "<tensorflow.python.keras.callbacks.History at 0x7f345016db50>"
            ]
          },
          "metadata": {},
          "execution_count": 80
        }
      ]
    },
    {
      "cell_type": "code",
      "metadata": {
        "id": "BCuI1Vs9BDXO",
        "outputId": "7a1ea9dd-99be-4f4d-e0d7-dacc97facc72"
      },
      "source": [
        "accuracy_precision_recall(model7)"
      ],
      "execution_count": 81,
      "outputs": [
        {
          "output_type": "execute_result",
          "data": {
            "text/plain": [
              "Accuracy     0.985100\n",
              "Precision    0.987164\n",
              "Recall       0.984400\n",
              "dtype: float64"
            ]
          },
          "metadata": {},
          "execution_count": 81
        }
      ]
    },
    {
      "cell_type": "markdown",
      "metadata": {
        "id": "Rl3Nn-LKBDXO"
      },
      "source": [
        "Obtemos uma melhora no desempenho ao usar essa técnica (aproximadamente 0.003 de *accuracy*)."
      ]
    },
    {
      "cell_type": "markdown",
      "metadata": {
        "id": "9jeWFxJiBDXO"
      },
      "source": [
        "### MLP 9\n",
        "\n",
        "Podemos também tentar mudar o algoritmo de treinamento. Um possível algoritmo é o Adam:"
      ]
    },
    {
      "cell_type": "code",
      "metadata": {
        "id": "0vDr-471BDXO",
        "outputId": "4fd23092-3c05-451a-da51-5ab2ae5fb82c"
      },
      "source": [
        "model8 = keras.Sequential([\n",
        "    keras.Input(shape=input_shape),\n",
        "    layers.Flatten(),\n",
        "    layers.Dropout(0.2),\n",
        "    layers.Dense(400, activation=\"relu\"),\n",
        "    layers.Dropout(0.2),\n",
        "    layers.Dense(300, activation=\"relu\"),\n",
        "    layers.Dense(num_classes, activation=\"softmax\")\n",
        "])\n",
        "\n",
        "model8.compile(loss=\"categorical_crossentropy\", optimizer=Adam(0.2), metrics=metrics)\n",
        "\n",
        "model8.summary()"
      ],
      "execution_count": 82,
      "outputs": [
        {
          "output_type": "stream",
          "name": "stdout",
          "text": [
            "WARNING:tensorflow:Please add `keras.layers.InputLayer` instead of `keras.Input` to Sequential model. `keras.Input` is intended to be used by Functional model.\n",
            "Model: \"sequential_23\"\n",
            "_________________________________________________________________\n",
            "Layer (type)                 Output Shape              Param #   \n",
            "=================================================================\n",
            "flatten_23 (Flatten)         (None, 784)               0         \n",
            "_________________________________________________________________\n",
            "dropout_9 (Dropout)          (None, 784)               0         \n",
            "_________________________________________________________________\n",
            "dense_51 (Dense)             (None, 400)               314000    \n",
            "_________________________________________________________________\n",
            "dropout_10 (Dropout)         (None, 400)               0         \n",
            "_________________________________________________________________\n",
            "dense_52 (Dense)             (None, 300)               120300    \n",
            "_________________________________________________________________\n",
            "dense_53 (Dense)             (None, 10)                3010      \n",
            "=================================================================\n",
            "Total params: 437,310\n",
            "Trainable params: 437,310\n",
            "Non-trainable params: 0\n",
            "_________________________________________________________________\n"
          ]
        }
      ]
    },
    {
      "cell_type": "code",
      "metadata": {
        "id": "svaWPlx-BDXP",
        "outputId": "7e648c7c-ce95-4a85-b91e-81e0cee36d05"
      },
      "source": [
        "model8.fit(x_train, y_train, batch_size=batch_size, epochs=epochs, validation_split=0.1, verbose=verbose)"
      ],
      "execution_count": 83,
      "outputs": [
        {
          "output_type": "execute_result",
          "data": {
            "text/plain": [
              "<tensorflow.python.keras.callbacks.History at 0x7f34502630d0>"
            ]
          },
          "metadata": {},
          "execution_count": 83
        }
      ]
    },
    {
      "cell_type": "code",
      "metadata": {
        "id": "N1iqf40mBDXP",
        "outputId": "6584d7b4-09be-4407-9890-b0b4a4c088a5"
      },
      "source": [
        "accuracy_precision_recall(model8)"
      ],
      "execution_count": 84,
      "outputs": [
        {
          "output_type": "execute_result",
          "data": {
            "text/plain": [
              "Accuracy     0.101\n",
              "Precision    0.000\n",
              "Recall       0.000\n",
              "dtype: float64"
            ]
          },
          "metadata": {},
          "execution_count": 84
        }
      ]
    },
    {
      "cell_type": "markdown",
      "metadata": {
        "id": "EcIFYW1wBDXP"
      },
      "source": [
        "Analisando os resultados, podemos deduzir que o algoritmo Adam não funciona com learning rates altos para esse conjunto de dados."
      ]
    },
    {
      "cell_type": "markdown",
      "metadata": {
        "id": "0AP6kEVrBDXP"
      },
      "source": [
        "### MLP 10\n",
        "\n",
        "Tentamos em seguida executar o com o algoritmo de aprendizado Adam com a learning rate default."
      ]
    },
    {
      "cell_type": "code",
      "metadata": {
        "id": "WCpBOLFHBDXP",
        "outputId": "875acdae-452f-47bd-fc08-0dc30824d447"
      },
      "source": [
        "model9 = keras.Sequential([\n",
        "    keras.Input(shape=input_shape),\n",
        "    layers.Flatten(),\n",
        "    layers.Dropout(0.2),\n",
        "    layers.Dense(400, activation=\"relu\"),\n",
        "    layers.Dropout(0.2),\n",
        "    layers.Dense(300, activation=\"relu\"),\n",
        "    layers.Dense(num_classes, activation=\"softmax\")\n",
        "])\n",
        "\n",
        "model9.compile(loss=\"categorical_crossentropy\", optimizer=Adam(), metrics=metrics)\n",
        "\n",
        "model9.summary()"
      ],
      "execution_count": 85,
      "outputs": [
        {
          "output_type": "stream",
          "name": "stdout",
          "text": [
            "WARNING:tensorflow:Please add `keras.layers.InputLayer` instead of `keras.Input` to Sequential model. `keras.Input` is intended to be used by Functional model.\n",
            "Model: \"sequential_24\"\n",
            "_________________________________________________________________\n",
            "Layer (type)                 Output Shape              Param #   \n",
            "=================================================================\n",
            "flatten_24 (Flatten)         (None, 784)               0         \n",
            "_________________________________________________________________\n",
            "dropout_11 (Dropout)         (None, 784)               0         \n",
            "_________________________________________________________________\n",
            "dense_54 (Dense)             (None, 400)               314000    \n",
            "_________________________________________________________________\n",
            "dropout_12 (Dropout)         (None, 400)               0         \n",
            "_________________________________________________________________\n",
            "dense_55 (Dense)             (None, 300)               120300    \n",
            "_________________________________________________________________\n",
            "dense_56 (Dense)             (None, 10)                3010      \n",
            "=================================================================\n",
            "Total params: 437,310\n",
            "Trainable params: 437,310\n",
            "Non-trainable params: 0\n",
            "_________________________________________________________________\n"
          ]
        }
      ]
    },
    {
      "cell_type": "code",
      "metadata": {
        "id": "6Y6aOU1jBDXP",
        "outputId": "39a87daf-dfd7-4964-de7a-2898921d8121"
      },
      "source": [
        "model9.fit(x_train, y_train, batch_size=batch_size, epochs=epochs, validation_split=0.1, verbose=verbose)"
      ],
      "execution_count": 86,
      "outputs": [
        {
          "output_type": "execute_result",
          "data": {
            "text/plain": [
              "<tensorflow.python.keras.callbacks.History at 0x7f343c5d2f40>"
            ]
          },
          "metadata": {},
          "execution_count": 86
        }
      ]
    },
    {
      "cell_type": "code",
      "metadata": {
        "id": "gmrQljPxBDXQ",
        "outputId": "f4e87362-abb9-4d8c-e2dc-248ddd02f5b0"
      },
      "source": [
        "accuracy_precision_recall(model9)"
      ],
      "execution_count": 87,
      "outputs": [
        {
          "output_type": "execute_result",
          "data": {
            "text/plain": [
              "Accuracy     0.984300\n",
              "Precision    0.985276\n",
              "Recall       0.983700\n",
              "dtype: float64"
            ]
          },
          "metadata": {},
          "execution_count": 87
        }
      ]
    },
    {
      "cell_type": "markdown",
      "metadata": {
        "id": "1FXQEgXyBDXQ"
      },
      "source": [
        "Tivemos praticamente os mesmos valores com o algoritmo de treinamento Adam, portanto não teve uma melhora significativa. "
      ]
    },
    {
      "cell_type": "markdown",
      "metadata": {
        "id": "uM9-Y5z9BDXQ"
      },
      "source": [
        "### CNN 1\n",
        "\n",
        "Agora vamos tentar usar uma Rede Neural Convolucional, que tem uma vantagem em relação às MLPS, pois ela considera as estrutura da matriz de entrada. \n",
        "\n",
        "Primeiramente, vamos usar uma CNN simples com apenas uma camada convolucional e uma camada de pooling."
      ]
    },
    {
      "cell_type": "code",
      "metadata": {
        "id": "RD4QiRC-BDXQ",
        "outputId": "262940b2-7ccc-48fa-d061-18e52232eb2d"
      },
      "source": [
        "model10 = keras.Sequential(\n",
        "    [\n",
        "        keras.Input(shape=input_shape),\n",
        "        layers.Conv2D(32, kernel_size=(3, 3), activation=\"relu\"),\n",
        "        layers.MaxPooling2D(pool_size=(2, 2)),\n",
        "        layers.Flatten(),\n",
        "        layers.Dense(num_classes, activation=\"softmax\"),\n",
        "    ]\n",
        ")\n",
        "\n",
        "model10.compile(loss=\"categorical_crossentropy\", optimizer=Adam(), metrics=metrics)\n",
        "\n",
        "model10.summary()"
      ],
      "execution_count": 88,
      "outputs": [
        {
          "output_type": "stream",
          "name": "stdout",
          "text": [
            "WARNING:tensorflow:Please add `keras.layers.InputLayer` instead of `keras.Input` to Sequential model. `keras.Input` is intended to be used by Functional model.\n",
            "Model: \"sequential_25\"\n",
            "_________________________________________________________________\n",
            "Layer (type)                 Output Shape              Param #   \n",
            "=================================================================\n",
            "conv2d_7 (Conv2D)            (None, 26, 26, 32)        320       \n",
            "_________________________________________________________________\n",
            "max_pooling2d_7 (MaxPooling2 (None, 13, 13, 32)        0         \n",
            "_________________________________________________________________\n",
            "flatten_25 (Flatten)         (None, 5408)              0         \n",
            "_________________________________________________________________\n",
            "dense_57 (Dense)             (None, 10)                54090     \n",
            "=================================================================\n",
            "Total params: 54,410\n",
            "Trainable params: 54,410\n",
            "Non-trainable params: 0\n",
            "_________________________________________________________________\n"
          ]
        }
      ]
    },
    {
      "cell_type": "code",
      "metadata": {
        "id": "XpYSH1Y9BDXR",
        "outputId": "2b3dadf3-4ae2-4450-ad99-a35dd4faa1cf"
      },
      "source": [
        "model10.fit(x_train, y_train, batch_size=batch_size, epochs=10, validation_split=0.1, verbose=verbose)"
      ],
      "execution_count": 89,
      "outputs": [
        {
          "output_type": "execute_result",
          "data": {
            "text/plain": [
              "<tensorflow.python.keras.callbacks.History at 0x7f343c36d820>"
            ]
          },
          "metadata": {},
          "execution_count": 89
        }
      ]
    },
    {
      "cell_type": "code",
      "metadata": {
        "id": "Gx4cHqeuBDXS",
        "outputId": "88341381-60c5-4369-c326-fb54622cb965"
      },
      "source": [
        "accuracy_precision_recall(model10)"
      ],
      "execution_count": 90,
      "outputs": [
        {
          "output_type": "execute_result",
          "data": {
            "text/plain": [
              "Accuracy     0.981600\n",
              "Precision    0.983743\n",
              "Recall       0.980300\n",
              "dtype: float64"
            ]
          },
          "metadata": {},
          "execution_count": 90
        }
      ]
    },
    {
      "cell_type": "markdown",
      "metadata": {
        "id": "64rp41otBDXR"
      },
      "source": [
        "Tivemos uma boa *accuracy* de inicio, mas ainda ainda mais baixa do que nosso MLP inicial."
      ]
    },
    {
      "cell_type": "markdown",
      "metadata": {
        "id": "VMHGYkAXBDXS"
      },
      "source": [
        "### CNN 2\n",
        "\n",
        "Podemos também aumentar a janela de convolução:"
      ]
    },
    {
      "cell_type": "code",
      "metadata": {
        "id": "nVImd6oeBDXS",
        "outputId": "c9fd5754-eddc-43c2-80e3-9fd5aa4e034d"
      },
      "source": [
        "model14 = keras.Sequential(\n",
        "    [\n",
        "        keras.Input(shape=input_shape),\n",
        "        layers.Conv2D(64, kernel_size=(3, 3), activation=\"relu\"),\n",
        "        layers.MaxPooling2D(pool_size=(2, 2)),\n",
        "        layers.Flatten(),\n",
        "        layers.Dense(num_classes, activation=\"softmax\"),\n",
        "    ]\n",
        ")\n",
        "\n",
        "model14.compile(loss=\"categorical_crossentropy\", optimizer=Adam(), metrics=metrics)\n",
        "\n",
        "model14.summary()"
      ],
      "execution_count": 91,
      "outputs": [
        {
          "output_type": "stream",
          "name": "stdout",
          "text": [
            "WARNING:tensorflow:Please add `keras.layers.InputLayer` instead of `keras.Input` to Sequential model. `keras.Input` is intended to be used by Functional model.\n",
            "Model: \"sequential_26\"\n",
            "_________________________________________________________________\n",
            "Layer (type)                 Output Shape              Param #   \n",
            "=================================================================\n",
            "conv2d_8 (Conv2D)            (None, 26, 26, 64)        640       \n",
            "_________________________________________________________________\n",
            "max_pooling2d_8 (MaxPooling2 (None, 13, 13, 64)        0         \n",
            "_________________________________________________________________\n",
            "flatten_26 (Flatten)         (None, 10816)             0         \n",
            "_________________________________________________________________\n",
            "dense_58 (Dense)             (None, 10)                108170    \n",
            "=================================================================\n",
            "Total params: 108,810\n",
            "Trainable params: 108,810\n",
            "Non-trainable params: 0\n",
            "_________________________________________________________________\n"
          ]
        }
      ]
    },
    {
      "cell_type": "code",
      "metadata": {
        "id": "QP0iiDWHBDXS",
        "outputId": "fb6be728-9ef6-4529-b7bd-2b6ad326dd97"
      },
      "source": [
        "model14.fit(x_train, y_train, batch_size=batch_size, epochs=epochs, validation_split=0.1, verbose=verbose)"
      ],
      "execution_count": 92,
      "outputs": [
        {
          "output_type": "execute_result",
          "data": {
            "text/plain": [
              "<tensorflow.python.keras.callbacks.History at 0x7f343c039460>"
            ]
          },
          "metadata": {},
          "execution_count": 92
        }
      ]
    },
    {
      "cell_type": "code",
      "metadata": {
        "id": "JvIYulGPBDXS",
        "outputId": "7816cb85-ff5f-4545-807a-468830bc49a2"
      },
      "source": [
        "accuracy_precision_recall(model14)"
      ],
      "execution_count": 93,
      "outputs": [
        {
          "output_type": "execute_result",
          "data": {
            "text/plain": [
              "Accuracy     0.982100\n",
              "Precision    0.982878\n",
              "Recall       0.981600\n",
              "dtype: float64"
            ]
          },
          "metadata": {},
          "execution_count": 93
        }
      ]
    },
    {
      "cell_type": "markdown",
      "metadata": {
        "id": "-GdSnu0wBDXS"
      },
      "source": [
        "Teve uma pequena melhora na acurácia ao aumentar o tamanho da janela."
      ]
    },
    {
      "cell_type": "markdown",
      "metadata": {
        "id": "2vRrr2kKBDXS"
      },
      "source": [
        "### CNN 3\n",
        "\n",
        "Podemos também variar o parâmetro de stride, que determina o quantos valores serão \"pulados\" para gerar as janelas de convolução."
      ]
    },
    {
      "cell_type": "code",
      "metadata": {
        "id": "kXHklgB3BDXS",
        "outputId": "a48c301c-09cb-495f-c308-6846c294413b"
      },
      "source": [
        "model13 = keras.Sequential(\n",
        "    [\n",
        "        keras.Input(shape=input_shape),\n",
        "        layers.Conv2D(32, kernel_size=(3, 3), strides=(2, 2), activation=\"relu\"),\n",
        "        layers.MaxPooling2D(pool_size=(2, 2)),\n",
        "        layers.Flatten(),\n",
        "        layers.Dense(num_classes, activation=\"softmax\"),\n",
        "    ]\n",
        ")\n",
        "\n",
        "model13.compile(loss=\"categorical_crossentropy\", optimizer=Adam(), metrics=metrics)\n",
        "\n",
        "model13.summary()"
      ],
      "execution_count": 94,
      "outputs": [
        {
          "output_type": "stream",
          "name": "stdout",
          "text": [
            "WARNING:tensorflow:Please add `keras.layers.InputLayer` instead of `keras.Input` to Sequential model. `keras.Input` is intended to be used by Functional model.\n",
            "Model: \"sequential_27\"\n",
            "_________________________________________________________________\n",
            "Layer (type)                 Output Shape              Param #   \n",
            "=================================================================\n",
            "conv2d_9 (Conv2D)            (None, 13, 13, 32)        320       \n",
            "_________________________________________________________________\n",
            "max_pooling2d_9 (MaxPooling2 (None, 6, 6, 32)          0         \n",
            "_________________________________________________________________\n",
            "flatten_27 (Flatten)         (None, 1152)              0         \n",
            "_________________________________________________________________\n",
            "dense_59 (Dense)             (None, 10)                11530     \n",
            "=================================================================\n",
            "Total params: 11,850\n",
            "Trainable params: 11,850\n",
            "Non-trainable params: 0\n",
            "_________________________________________________________________\n"
          ]
        }
      ]
    },
    {
      "cell_type": "code",
      "metadata": {
        "id": "4TazIdNxBDXT",
        "outputId": "dcc87432-51bf-45bc-8703-5278829a5a46"
      },
      "source": [
        "model13.fit(x_train, y_train, batch_size=batch_size, epochs=epochs, validation_split=0.1, verbose=verbose)"
      ],
      "execution_count": 95,
      "outputs": [
        {
          "output_type": "execute_result",
          "data": {
            "text/plain": [
              "<tensorflow.python.keras.callbacks.History at 0x7f3434593490>"
            ]
          },
          "metadata": {},
          "execution_count": 95
        }
      ]
    },
    {
      "cell_type": "code",
      "metadata": {
        "id": "YUnu22CzBDXT",
        "outputId": "7f67a23a-305e-4f8d-e182-667e2939279e"
      },
      "source": [
        "accuracy_precision_recall(model13)"
      ],
      "execution_count": 96,
      "outputs": [
        {
          "output_type": "execute_result",
          "data": {
            "text/plain": [
              "Accuracy     0.980100\n",
              "Precision    0.981249\n",
              "Recall       0.978600\n",
              "dtype: float64"
            ]
          },
          "metadata": {},
          "execution_count": 96
        }
      ]
    },
    {
      "cell_type": "markdown",
      "metadata": {
        "id": "k_HsMpbXBDXT"
      },
      "source": [
        "Tivemos uma melhora não significativa."
      ]
    },
    {
      "cell_type": "markdown",
      "metadata": {
        "id": "n3gWZsRmBDXT"
      },
      "source": [
        "### CNN 4\n",
        "\n",
        "Podemos também tentar adicionar mais uma camada de convolução:"
      ]
    },
    {
      "cell_type": "code",
      "metadata": {
        "id": "8tDJEcRyBDXT",
        "outputId": "6c4d02b5-88db-4d7b-a9f8-0988b39539ec"
      },
      "source": [
        "model11 = keras.Sequential(\n",
        "    [\n",
        "        keras.Input(shape=input_shape),\n",
        "        layers.Conv2D(32, kernel_size=(3, 3), activation=\"relu\"),\n",
        "        layers.MaxPooling2D(pool_size=(2, 2)),\n",
        "        layers.Conv2D(64, kernel_size=(3, 3), activation=\"relu\"),\n",
        "        layers.MaxPooling2D(pool_size=(2, 2)),\n",
        "        layers.Flatten(),\n",
        "        layers.Dense(num_classes, activation=\"softmax\"),\n",
        "    ]\n",
        ")\n",
        "\n",
        "model11.compile(loss=\"categorical_crossentropy\", optimizer=Adam(), metrics=metrics)\n",
        "\n",
        "model11.summary()"
      ],
      "execution_count": 97,
      "outputs": [
        {
          "output_type": "stream",
          "name": "stdout",
          "text": [
            "WARNING:tensorflow:Please add `keras.layers.InputLayer` instead of `keras.Input` to Sequential model. `keras.Input` is intended to be used by Functional model.\n",
            "Model: \"sequential_28\"\n",
            "_________________________________________________________________\n",
            "Layer (type)                 Output Shape              Param #   \n",
            "=================================================================\n",
            "conv2d_10 (Conv2D)           (None, 26, 26, 32)        320       \n",
            "_________________________________________________________________\n",
            "max_pooling2d_10 (MaxPooling (None, 13, 13, 32)        0         \n",
            "_________________________________________________________________\n",
            "conv2d_11 (Conv2D)           (None, 11, 11, 64)        18496     \n",
            "_________________________________________________________________\n",
            "max_pooling2d_11 (MaxPooling (None, 5, 5, 64)          0         \n",
            "_________________________________________________________________\n",
            "flatten_28 (Flatten)         (None, 1600)              0         \n",
            "_________________________________________________________________\n",
            "dense_60 (Dense)             (None, 10)                16010     \n",
            "=================================================================\n",
            "Total params: 34,826\n",
            "Trainable params: 34,826\n",
            "Non-trainable params: 0\n",
            "_________________________________________________________________\n"
          ]
        }
      ]
    },
    {
      "cell_type": "code",
      "metadata": {
        "id": "CYjcOtJzBDXT",
        "outputId": "c1e3a1fd-61dc-4183-80c9-3a1e91f995a0"
      },
      "source": [
        "model11.fit(x_train, y_train, batch_size=batch_size, epochs=epochs, validation_split=0.1, verbose=verbose)"
      ],
      "execution_count": 98,
      "outputs": [
        {
          "output_type": "execute_result",
          "data": {
            "text/plain": [
              "<tensorflow.python.keras.callbacks.History at 0x7f3434305dc0>"
            ]
          },
          "metadata": {},
          "execution_count": 98
        }
      ]
    },
    {
      "cell_type": "code",
      "metadata": {
        "id": "fsPtC2UEBDXU",
        "outputId": "451783e3-c28b-43b4-d7e9-64ab9f82927a"
      },
      "source": [
        "accuracy_precision_recall(model11)"
      ],
      "execution_count": 99,
      "outputs": [
        {
          "output_type": "execute_result",
          "data": {
            "text/plain": [
              "Accuracy     0.990700\n",
              "Precision    0.990897\n",
              "Recall       0.990600\n",
              "dtype: float64"
            ]
          },
          "metadata": {},
          "execution_count": 99
        }
      ]
    },
    {
      "cell_type": "markdown",
      "metadata": {
        "id": "4gwHdMy4BDXT"
      },
      "source": [
        "Adicionando uma camada de convolução obtivemos uma melhora considerável."
      ]
    },
    {
      "cell_type": "markdown",
      "metadata": {
        "id": "c3yiAvXSBDXU"
      },
      "source": [
        "### CNN 5\n",
        "\n",
        "Podemos também tentar adicionar uma camada de drop-out para os neurons de Saída."
      ]
    },
    {
      "cell_type": "code",
      "metadata": {
        "id": "DTU9wbOYBDXU",
        "outputId": "8f144b02-65b8-4cf5-c526-c4a4352ebc72"
      },
      "source": [
        "model12 = keras.Sequential(\n",
        "    [\n",
        "        keras.Input(shape=input_shape),\n",
        "        layers.Conv2D(32, kernel_size=(3, 3), activation=\"relu\"),\n",
        "        layers.MaxPooling2D(pool_size=(2, 2)),\n",
        "        layers.Conv2D(64, kernel_size=(3, 3), activation=\"relu\"),\n",
        "        layers.MaxPooling2D(pool_size=(2, 2)),\n",
        "        layers.Flatten(),\n",
        "        layers.Dropout(0.2),\n",
        "        layers.Dense(num_classes, activation=\"softmax\"),\n",
        "    ]\n",
        ")\n",
        "\n",
        "model12.compile(loss=\"categorical_crossentropy\", optimizer=Adam(), metrics=metrics)\n",
        "\n",
        "model12.summary()"
      ],
      "execution_count": 100,
      "outputs": [
        {
          "output_type": "stream",
          "name": "stdout",
          "text": [
            "WARNING:tensorflow:Please add `keras.layers.InputLayer` instead of `keras.Input` to Sequential model. `keras.Input` is intended to be used by Functional model.\n",
            "Model: \"sequential_29\"\n",
            "_________________________________________________________________\n",
            "Layer (type)                 Output Shape              Param #   \n",
            "=================================================================\n",
            "conv2d_12 (Conv2D)           (None, 26, 26, 32)        320       \n",
            "_________________________________________________________________\n",
            "max_pooling2d_12 (MaxPooling (None, 13, 13, 32)        0         \n",
            "_________________________________________________________________\n",
            "conv2d_13 (Conv2D)           (None, 11, 11, 64)        18496     \n",
            "_________________________________________________________________\n",
            "max_pooling2d_13 (MaxPooling (None, 5, 5, 64)          0         \n",
            "_________________________________________________________________\n",
            "flatten_29 (Flatten)         (None, 1600)              0         \n",
            "_________________________________________________________________\n",
            "dropout_13 (Dropout)         (None, 1600)              0         \n",
            "_________________________________________________________________\n",
            "dense_61 (Dense)             (None, 10)                16010     \n",
            "=================================================================\n",
            "Total params: 34,826\n",
            "Trainable params: 34,826\n",
            "Non-trainable params: 0\n",
            "_________________________________________________________________\n"
          ]
        }
      ]
    },
    {
      "cell_type": "code",
      "metadata": {
        "id": "0IsC4kqIBDXU",
        "outputId": "b803bc0c-25b1-4c53-a52a-722b7629b7e2"
      },
      "source": [
        "model12.fit(x_train, y_train, batch_size=batch_size, epochs=epochs, validation_split=0.1, verbose=verbose)"
      ],
      "execution_count": 101,
      "outputs": [
        {
          "output_type": "execute_result",
          "data": {
            "text/plain": [
              "<tensorflow.python.keras.callbacks.History at 0x7f34340a35b0>"
            ]
          },
          "metadata": {},
          "execution_count": 101
        }
      ]
    },
    {
      "cell_type": "code",
      "metadata": {
        "id": "QAIerp98BDXU",
        "outputId": "0cb0b4be-97c9-4b96-abfa-f49f8f3e71af"
      },
      "source": [
        "accuracy_per_class(model12)"
      ],
      "execution_count": 102,
      "outputs": [
        {
          "output_type": "execute_result",
          "data": {
            "text/plain": [
              "0    0.994898\n",
              "1    1.000000\n",
              "2    0.988372\n",
              "3    0.994059\n",
              "4    0.994908\n",
              "5    0.988789\n",
              "6    0.989562\n",
              "7    0.994163\n",
              "8    0.993840\n",
              "9    0.984143\n",
              "Name: Accuracy per class, dtype: float64"
            ]
          },
          "metadata": {},
          "execution_count": 102
        }
      ]
    },
    {
      "cell_type": "code",
      "metadata": {
        "id": "7E818FBCBDXU",
        "outputId": "c12fe54c-88fa-4957-a7ca-927b65055251"
      },
      "source": [
        "accuracy_precision_recall(model12)"
      ],
      "execution_count": 103,
      "outputs": [
        {
          "output_type": "execute_result",
          "data": {
            "text/plain": [
              "Accuracy     0.992400\n",
              "Precision    0.992499\n",
              "Recall       0.992400\n",
              "dtype: float64"
            ]
          },
          "metadata": {},
          "execution_count": 103
        }
      ]
    },
    {
      "cell_type": "markdown",
      "metadata": {
        "id": "W2ipd4pyBDXU"
      },
      "source": [
        "Adicionando a camada de drop-out conseguimos a nossa melhor acurácia até agora."
      ]
    }
  ]
}