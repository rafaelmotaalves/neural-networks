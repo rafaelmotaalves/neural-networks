{
 "cells": [
  {
   "cell_type": "markdown",
   "metadata": {},
   "source": [
    "# Classificando o dataset MNIST usando MLPs e CNNs\n",
    "\n",
    "### Membros\n",
    "\n",
    "* Gabriel Pessoa\n",
    "* Ícaro Guerra\n",
    "* Lucas Barros\n",
    "* Matheus Pessoa\n",
    "* Rafael Mota\n",
    "\n",
    "## Introdução\n",
    "Esse relatório detalha o processo experimental para o desenvolvimento de uma solução para o problema de classificação de dígitos escritos manualmente do dataset MNIST usando Redes Neurais dos tipos: Multilayer Perceptron (MLP) e Convolutional Neural Network (CNN). O dataset MNIST consiste em 70 mil imagens 28x28 dos dígitos de 0 a 9, sendo 60 mil samples de treinamento e 10 mil samples de teste.\n",
    "\n",
    "## Bibliotecas Utilizadas\n",
    "Para a implementação utilzaremos as seguintes bibliotecas:\n"
   ]
  },
  {
   "cell_type": "code",
   "execution_count": 1,
   "metadata": {},
   "outputs": [],
   "source": [
    "import numpy as np\n",
    "import pandas as pd\n",
    "from tensorflow import keras\n",
    "from tensorflow.keras import layers"
   ]
  },
  {
   "cell_type": "markdown",
   "metadata": {},
   "source": [
    "* O Numpy e o Pandas são usados para a representação dos dados e para a implementação de funções auxiliares.\n",
    "\n",
    "* Tensorflow e Keras são usados para a implementação e treinamento das Redes Neurais.\n",
    "\n",
    "## Carregamento dos Dados\n",
    "O código a seguir carrega os dados do dataset, adapta ao formato desejado e define os parâmetros globais sobre os dados."
   ]
  },
  {
   "cell_type": "code",
   "execution_count": 2,
   "metadata": {},
   "outputs": [
    {
     "name": "stdout",
     "output_type": "stream",
     "text": [
      "x_train shape: (60000, 28, 28, 1)\n",
      "60000 train samples\n",
      "10000 test samples\n"
     ]
    }
   ],
   "source": [
    "# Model / data parameters\n",
    "num_classes = 10\n",
    "input_shape = (28, 28, 1)\n",
    "\n",
    "# the data, split between train and test sets\n",
    "(x_train, y_train), (x_test, y_test) = keras.datasets.mnist.load_data()\n",
    "\n",
    "# Scale images to the [0, 1] range\n",
    "x_train = x_train.astype(\"float32\") / 255\n",
    "x_test = x_test.astype(\"float32\") / 255\n",
    "# Make sure images have shape (28, 28, 1)\n",
    "x_train = np.expand_dims(x_train, -1)\n",
    "x_test = np.expand_dims(x_test, -1)\n",
    "print(\"x_train shape:\", x_train.shape)\n",
    "print(x_train.shape[0], \"train samples\")\n",
    "print(x_test.shape[0], \"test samples\")\n",
    "\n",
    "# convert class vectors to binary class matrices\n",
    "y_train = keras.utils.to_categorical(y_train, num_classes)\n",
    "y_test = keras.utils.to_categorical(y_test, num_classes)\n"
   ]
  },
  {
   "cell_type": "markdown",
   "metadata": {},
   "source": [
    "## Parâmetros de Treinamento\n",
    "Aqui definimos os parâmetro de treinamento que serão utilizados para todas as redes neurais, a escolha dessa quantidade de epochs e batch_size, foi feita para que tenhamos maior perfomance e mais dinamicidade no experimento com os treinamentos."
   ]
  },
  {
   "cell_type": "code",
   "execution_count": 3,
   "metadata": {},
   "outputs": [],
   "source": [
    "# Training parameters\n",
    "epochs = 15\n",
    "batch_size = 128\n",
    "metrics = [\"accuracy\", keras.metrics.Precision(), keras.metrics.Recall()]"
   ]
  },
  {
   "cell_type": "markdown",
   "metadata": {},
   "source": [
    "## Funções de Avaliação\n",
    "Aqui definimos a duas funções que vamos usar para avaliar as soluções, a primeira função `accuracy_per_class` retorna a métrica de *acurácia* para cada uma das classes de resposta, que no nosso caso são os possíveis dígitos de 0 a 9. A segunda função `accuracy_precision_recall` retorna as métricas *acurácia*, *precision* e *recall* total.\n",
    "\n",
    "Um breve descrição das métricas citadas seria:\n",
    "\n",
    "* *acurácia*: A proporção de predição corretas com o total de casos.\n",
    "* *precision*: A proporção de predições positivas corretas com o total de predições positivas da classe.\n",
    "* *recall*: A proporção de predições positivas corretas com o total de casos da classe."
   ]
  },
  {
   "cell_type": "code",
   "execution_count": 4,
   "metadata": {},
   "outputs": [],
   "source": [
    "def accuracy_per_class(model):\n",
    "    y_pred = model.predict(x_test)\n",
    "\n",
    "    correct = [0] * num_classes\n",
    "    total = [0] * num_classes\n",
    "\n",
    "    for real, pred in zip(y_test.argmax(axis=1), y_pred.argmax(axis=1)):\n",
    "        if real == pred:\n",
    "            correct[real] += 1\n",
    "        total[real] += 1\n",
    "\n",
    "    accuracies = []\n",
    "    for correct, total in zip(correct, total):\n",
    "        accuracies.append(correct / total)\n",
    "\n",
    "    return pd.Series(data=accuracies, index=range(0,num_classes), name=\"Accuracy per class\")\n",
    "\n",
    "def accuracy_precision_recall(model):\n",
    "    _, acc, prec, rec = model.evaluate(x_test, y_test,verbose=0)\n",
    "\n",
    "    return pd.Series(data=[acc, prec, rec],index=[\"Accuracy\", \"Precision\", \"Recall\"])"
   ]
  },
  {
   "cell_type": "markdown",
   "metadata": {},
   "source": []
  },
  {
   "cell_type": "code",
   "execution_count": 5,
   "metadata": {},
   "outputs": [
    {
     "name": "stdout",
     "output_type": "stream",
     "text": [
      "WARNING:tensorflow:Please add `keras.layers.InputLayer` instead of `keras.Input` to Sequential model. `keras.Input` is intended to be used by Functional model.\n",
      "Model: \"sequential\"\n",
      "_________________________________________________________________\n",
      "Layer (type)                 Output Shape              Param #   \n",
      "=================================================================\n",
      "flatten (Flatten)            (None, 784)               0         \n",
      "_________________________________________________________________\n",
      "dense (Dense)                (None, 50)                39250     \n",
      "_________________________________________________________________\n",
      "dense_1 (Dense)              (None, 10)                510       \n",
      "=================================================================\n",
      "Total params: 39,760\n",
      "Trainable params: 39,760\n",
      "Non-trainable params: 0\n",
      "_________________________________________________________________\n"
     ]
    }
   ],
   "source": [
    "model = keras.Sequential([\n",
    "    keras.Input(shape=input_shape),\n",
    "    layers.Flatten(),\n",
    "    layers.Dense(50),\n",
    "    layers.Dense(num_classes, activation=\"softmax\")\n",
    "])\n",
    "\n",
    "model.compile(loss=\"categorical_crossentropy\", optimizer=\"adam\", metrics=metrics)\n",
    "\n",
    "model.summary()"
   ]
  },
  {
   "cell_type": "code",
   "execution_count": 6,
   "metadata": {},
   "outputs": [
    {
     "name": "stdout",
     "output_type": "stream",
     "text": [
      "Epoch 1/15\n",
      "422/422 [==============================] - 3s 4ms/step - loss: 0.4718 - accuracy: 0.8682 - precision: 0.9321 - recall: 0.7972 - val_loss: 0.2539 - val_accuracy: 0.9302 - val_precision: 0.9499 - val_recall: 0.9098\n",
      "Epoch 2/15\n",
      "422/422 [==============================] - 2s 4ms/step - loss: 0.3008 - accuracy: 0.9158 - precision: 0.9366 - recall: 0.8981 - val_loss: 0.2404 - val_accuracy: 0.9340 - val_precision: 0.9513 - val_recall: 0.9190\n",
      "Epoch 3/15\n",
      "422/422 [==============================] - 2s 5ms/step - loss: 0.2861 - accuracy: 0.9197 - precision: 0.9367 - recall: 0.9055 - val_loss: 0.2353 - val_accuracy: 0.9332 - val_precision: 0.9482 - val_recall: 0.9237\n",
      "Epoch 4/15\n",
      "422/422 [==============================] - 2s 5ms/step - loss: 0.2772 - accuracy: 0.9231 - precision: 0.9390 - recall: 0.9097 - val_loss: 0.2281 - val_accuracy: 0.9377 - val_precision: 0.9512 - val_recall: 0.9252\n",
      "Epoch 5/15\n",
      "422/422 [==============================] - 1s 3ms/step - loss: 0.2715 - accuracy: 0.9236 - precision: 0.9391 - recall: 0.9114 - val_loss: 0.2299 - val_accuracy: 0.9318 - val_precision: 0.9475 - val_recall: 0.9228\n",
      "Epoch 6/15\n",
      "422/422 [==============================] - 1s 3ms/step - loss: 0.2659 - accuracy: 0.9258 - precision: 0.9408 - recall: 0.9136 - val_loss: 0.2322 - val_accuracy: 0.9363 - val_precision: 0.9492 - val_recall: 0.9252\n",
      "Epoch 7/15\n",
      "422/422 [==============================] - 1s 3ms/step - loss: 0.2628 - accuracy: 0.9264 - precision: 0.9405 - recall: 0.9144 - val_loss: 0.2291 - val_accuracy: 0.9373 - val_precision: 0.9490 - val_recall: 0.9270\n",
      "Epoch 8/15\n",
      "422/422 [==============================] - 1s 3ms/step - loss: 0.2601 - accuracy: 0.9272 - precision: 0.9410 - recall: 0.9160 - val_loss: 0.2381 - val_accuracy: 0.9350 - val_precision: 0.9464 - val_recall: 0.9243\n",
      "Epoch 9/15\n",
      "422/422 [==============================] - 1s 3ms/step - loss: 0.2583 - accuracy: 0.9278 - precision: 0.9419 - recall: 0.9166 - val_loss: 0.2362 - val_accuracy: 0.9342 - val_precision: 0.9466 - val_recall: 0.9225\n",
      "Epoch 10/15\n",
      "422/422 [==============================] - 1s 3ms/step - loss: 0.2565 - accuracy: 0.9281 - precision: 0.9413 - recall: 0.9169 - val_loss: 0.2315 - val_accuracy: 0.9370 - val_precision: 0.9474 - val_recall: 0.9283\n",
      "Epoch 11/15\n",
      "422/422 [==============================] - 1s 3ms/step - loss: 0.2550 - accuracy: 0.9288 - precision: 0.9423 - recall: 0.9176 - val_loss: 0.2303 - val_accuracy: 0.9352 - val_precision: 0.9473 - val_recall: 0.9257\n",
      "Epoch 12/15\n",
      "422/422 [==============================] - 1s 3ms/step - loss: 0.2542 - accuracy: 0.9293 - precision: 0.9424 - recall: 0.9183 - val_loss: 0.2353 - val_accuracy: 0.9350 - val_precision: 0.9468 - val_recall: 0.9260\n",
      "Epoch 13/15\n",
      "422/422 [==============================] - 1s 3ms/step - loss: 0.2523 - accuracy: 0.9300 - precision: 0.9434 - recall: 0.9181 - val_loss: 0.2342 - val_accuracy: 0.9360 - val_precision: 0.9468 - val_recall: 0.9258\n",
      "Epoch 14/15\n",
      "422/422 [==============================] - 1s 3ms/step - loss: 0.2528 - accuracy: 0.9293 - precision: 0.9422 - recall: 0.9179 - val_loss: 0.2304 - val_accuracy: 0.9403 - val_precision: 0.9517 - val_recall: 0.9322\n",
      "Epoch 15/15\n",
      "422/422 [==============================] - 1s 3ms/step - loss: 0.2505 - accuracy: 0.9302 - precision: 0.9431 - recall: 0.9190 - val_loss: 0.2293 - val_accuracy: 0.9388 - val_precision: 0.9492 - val_recall: 0.9282\n"
     ]
    },
    {
     "data": {
      "text/plain": [
       "<tensorflow.python.keras.callbacks.History at 0x7f17814228e0>"
      ]
     },
     "execution_count": 6,
     "metadata": {},
     "output_type": "execute_result"
    }
   ],
   "source": [
    "\n",
    "model.fit(x_train, y_train, batch_size=batch_size, epochs=epochs, validation_split=0.1)\n"
   ]
  },
  {
   "cell_type": "code",
   "execution_count": 7,
   "metadata": {},
   "outputs": [
    {
     "data": {
      "text/plain": [
       "0    0.974490\n",
       "1    0.977093\n",
       "2    0.898256\n",
       "3    0.913861\n",
       "4    0.913442\n",
       "5    0.860987\n",
       "6    0.954071\n",
       "7    0.934825\n",
       "8    0.902464\n",
       "9    0.916749\n",
       "Name: Accuracy per class, dtype: float64"
      ]
     },
     "execution_count": 7,
     "metadata": {},
     "output_type": "execute_result"
    }
   ],
   "source": [
    "accuracy_per_class(model)"
   ]
  },
  {
   "cell_type": "code",
   "execution_count": 8,
   "metadata": {},
   "outputs": [
    {
     "data": {
      "text/plain": [
       "Accuracy     0.925800\n",
       "Precision    0.937225\n",
       "Recall       0.916700\n",
       "dtype: float64"
      ]
     },
     "execution_count": 8,
     "metadata": {},
     "output_type": "execute_result"
    }
   ],
   "source": [
    "accuracy_precision_recall(model)"
   ]
  }
 ],
 "metadata": {
  "interpreter": {
   "hash": "31f2aee4e71d21fbe5cf8b01ff0e069b9275f58929596ceb00d14d90e3e16cd6"
  },
  "kernelspec": {
   "display_name": "Python 3.8.10 64-bit",
   "name": "python3"
  },
  "language_info": {
   "codemirror_mode": {
    "name": "ipython",
    "version": 3
   },
   "file_extension": ".py",
   "mimetype": "text/x-python",
   "name": "python",
   "nbconvert_exporter": "python",
   "pygments_lexer": "ipython3",
   "version": "3.8.10"
  },
  "orig_nbformat": 4
 },
 "nbformat": 4,
 "nbformat_minor": 2
}