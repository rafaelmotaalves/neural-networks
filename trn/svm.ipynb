{
    "cells": [
        {
            "cell_type": "code",
            "execution_count": 2,
            "source": [
                "import numpy as np\r\n",
                "from sklearn.svm import SVC\r\n",
                "from sklearn.multioutput import MultiOutputClassifier\r\n",
                "from sklearn.metrics import confusion_matrix\r\n",
                "\r\n",
                "from utils import load_dataset, extract_final_losses, plot_training_error_curves, compute_performance_metrics, print_metrics_summary"
            ],
            "outputs": [],
            "metadata": {}
        },
        {
            "cell_type": "code",
            "execution_count": 3,
            "source": [
                "x_train, x_test, y_train, y_test = load_dataset()\r\n",
                "\r\n",
                "print(x_train.shape, y_train.shape)\r\n",
                "print(x_test.shape, y_test.shape)"
            ],
            "outputs": [
                {
                    "output_type": "stream",
                    "name": "stdout",
                    "text": [
                        "(382646, 243) (382646, 2)\n",
                        "(97300, 243) (97300, 2)\n"
                    ]
                }
            ],
            "metadata": {}
        },
        {
            "cell_type": "code",
            "execution_count": 4,
            "source": [
                "svc = MultiOutputClassifier(SVC())"
            ],
            "outputs": [],
            "metadata": {}
        },
        {
            "cell_type": "code",
            "execution_count": 5,
            "source": [
                "svc.fit(x_train, y_train)"
            ],
            "outputs": [
                {
                    "output_type": "execute_result",
                    "data": {
                        "text/plain": [
                            "MultiOutputClassifier(estimator=SVC())"
                        ]
                    },
                    "metadata": {},
                    "execution_count": 5
                }
            ],
            "metadata": {}
        },
        {
            "cell_type": "code",
            "execution_count": 7,
            "source": [
                "y_pred = svc.predict(x_test)"
            ],
            "outputs": [],
            "metadata": {}
        },
        {
            "cell_type": "code",
            "execution_count": 9,
            "source": [
                "accuracy, recall, precision, f1 = compute_performance_metrics(y_test, y_pred)\r\n",
                "print_metrics_summary(accuracy, recall, precision, f1)"
            ],
            "outputs": [
                {
                    "output_type": "stream",
                    "name": "stdout",
                    "text": [
                        "\n",
                        "Accuracy:         0.5689\n",
                        "Recall:           0.7135\n",
                        "Precision:        0.4251\n",
                        "F1:               0.5328\n"
                    ]
                }
            ],
            "metadata": {}
        }
    ],
    "metadata": {
        "orig_nbformat": 4,
        "language_info": {
            "name": "python",
            "version": "3.9.6",
            "mimetype": "text/x-python",
            "codemirror_mode": {
                "name": "ipython",
                "version": 3
            },
            "pygments_lexer": "ipython3",
            "nbconvert_exporter": "python",
            "file_extension": ".py"
        },
        "kernelspec": {
            "name": "python3",
            "display_name": "Python 3.9.6 64-bit"
        },
        "interpreter": {
            "hash": "10fa5b18b6821efcf1a0ca8a7bbd5168ce7aee3a71c9cf3dc990838fd8f195d9"
        }
    },
    "nbformat": 4,
    "nbformat_minor": 2
}