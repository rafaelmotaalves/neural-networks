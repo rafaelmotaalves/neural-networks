{
    "cells": [
        {
            "cell_type": "code",
            "execution_count": null,
            "source": [
                "import numpy as np\n",
                "from sklearn.svm import SVC\n",
                "from sklearn.multioutput import MultiOutputClassifier\n",
                "from sklearn.metrics import confusion_matrix\n",
                "\n",
                "from utils import load_dataset, extract_final_losses, plot_training_error_curves, compute_performance_metrics, print_metrics_summary"
            ],
            "outputs": [],
            "metadata": {}
        },
        {
            "cell_type": "code",
            "execution_count": null,
            "source": [
                "x_train, x_test, y_train, y_test = load_dataset()\n",
                "\n",
                "print(x_train.shape, y_train.shape)\n",
                "print(x_test.shape, y_test.shape)"
            ],
            "outputs": [],
            "metadata": {}
        },
        {
            "cell_type": "code",
            "execution_count": null,
            "source": [
                "svc = MultiOutputClassifier(SVC())"
            ],
            "outputs": [],
            "metadata": {}
        },
        {
            "cell_type": "code",
            "execution_count": null,
            "source": [
                "svc.fit(x_train, y_train)"
            ],
            "outputs": [],
            "metadata": {}
        },
        {
            "cell_type": "code",
            "execution_count": null,
            "source": [
                "y_pred = svc.predict(x_test)\n",
                "y_pred_proba = svc.predict_proba(x_test)"
            ],
            "outputs": [],
            "metadata": {}
        },
        {
            "cell_type": "code",
            "execution_count": null,
            "source": [
                "accuracy, recall, precision, f1, auroc, aupr = compute_performance_metrics(y_test, y_pred, y_pred_proba)\n",
                "print_metrics_summary(accuracy, recall, precision, f1, auroc, aupr)"
            ],
            "outputs": [],
            "metadata": {}
        }
    ],
    "metadata": {
        "orig_nbformat": 4,
        "language_info": {
            "name": "python",
            "version": "3.9.1",
            "mimetype": "text/x-python",
            "codemirror_mode": {
                "name": "ipython",
                "version": 3
            },
            "pygments_lexer": "ipython3",
            "nbconvert_exporter": "python",
            "file_extension": ".py"
        },
        "kernelspec": {
            "name": "python3",
            "display_name": "Python 3.9.1 64-bit ('base': conda)"
        },
        "interpreter": {
            "hash": "828347deea3abc4070f76cfb51056c59301b7e5e4ab6780ef22839cb4d850b58"
        }
    },
    "nbformat": 4,
    "nbformat_minor": 2
}