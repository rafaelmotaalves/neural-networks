{
 "metadata": {
  "language_info": {
   "codemirror_mode": {
    "name": "ipython",
    "version": 3
   },
   "file_extension": ".py",
   "mimetype": "text/x-python",
   "name": "python",
   "nbconvert_exporter": "python",
   "pygments_lexer": "ipython3",
   "version": "3.9.2"
  },
  "orig_nbformat": 4,
  "kernelspec": {
   "name": "python3",
   "display_name": "Python 3.9.2 64-bit"
  },
  "interpreter": {
   "hash": "f47a5ab19bc45083382657f6f2388be666e731531973f00c5e26ff8c66213130"
  }
 },
 "nbformat": 4,
 "nbformat_minor": 2,
 "cells": [
  {
   "cell_type": "code",
   "execution_count": 18,
   "source": [
    "import numpy as np\r\n",
    "import matplotlib.pyplot as plt\r\n",
    "from sklearn.neural_network import MLPClassifier\r\n",
    "from sklearn.ensemble import VotingClassifier\r\n",
    "from sklearn.metrics import plot_confusion_matrix\r\n",
    "from sklearn.ensemble import GradientBoostingClassifier\r\n",
    "from sklearn.ensemble import RandomForestClassifier\r\n",
    "from utils import load_dataset, compute_performance_metrics, print_metrics_summary"
   ],
   "outputs": [],
   "metadata": {}
  },
  {
   "cell_type": "code",
   "execution_count": 8,
   "source": [
    "x_train, x_test, y_train, y_test = load_dataset()\r\n",
    "\r\n",
    "print(x_train.shape, y_train.shape)\r\n",
    "print(x_test.shape, y_test.shape)\r\n",
    "print(x_train)"
   ],
   "outputs": [
    {
     "output_type": "stream",
     "name": "stdout",
     "text": [
      "(382646, 243) (382646,)\n",
      "(97300, 243) (97300,)\n",
      "[[1. 1. 1. ... 1. 0. 0.]\n",
      " [1. 1. 1. ... 0. 0. 0.]\n",
      " [1. 1. 0. ... 0. 0. 0.]\n",
      " ...\n",
      " [0. 1. 0. ... 0. 0. 1.]\n",
      " [1. 0. 1. ... 1. 1. 0.]\n",
      " [1. 0. 1. ... 0. 0. 0.]]\n"
     ]
    }
   ],
   "metadata": {}
  },
  {
   "cell_type": "code",
   "execution_count": 9,
   "source": [
    "epochs = 10000\r\n",
    "batch_size = 512\r\n",
    "patience = 10\r\n",
    "validation_fraction = 0.33"
   ],
   "outputs": [],
   "metadata": {}
  },
  {
   "cell_type": "code",
   "execution_count": 10,
   "source": [
    "first_mlp = MLPClassifier(max_iter=epochs, batch_size=batch_size, early_stopping=True, n_iter_no_change=patience, validation_fraction=validation_fraction, activation='identity', random_state=42, hidden_layer_sizes=50)"
   ],
   "outputs": [],
   "metadata": {}
  },
  {
   "cell_type": "code",
   "execution_count": 11,
   "source": [
    "second_mlp = MLPClassifier(max_iter=epochs, batch_size=batch_size, early_stopping=True, n_iter_no_change=patience, validation_fraction=validation_fraction, activation='tanh', random_state=42, hidden_layer_sizes=50)"
   ],
   "outputs": [],
   "metadata": {}
  },
  {
   "cell_type": "code",
   "execution_count": 12,
   "source": [
    "third_mlp = MLPClassifier(max_iter=epochs, batch_size=batch_size, early_stopping=True, n_iter_no_change=patience, validation_fraction=validation_fraction, activation='logistic', random_state=42, hidden_layer_sizes=50)"
   ],
   "outputs": [],
   "metadata": {}
  },
  {
   "cell_type": "code",
   "execution_count": 26,
   "source": [
    "fourth_mlp = MLPClassifier(max_iter=epochs, batch_size=batch_size, early_stopping=True, n_iter_no_change=patience, validation_fraction=validation_fraction, random_state=42)"
   ],
   "outputs": [],
   "metadata": {}
  },
  {
   "cell_type": "code",
   "execution_count": 27,
   "source": [
    "fifth_mlp = MLPClassifier(max_iter=epochs, batch_size=batch_size, early_stopping=True, n_iter_no_change=patience, validation_fraction=validation_fraction, hidden_layer_sizes=200, random_state=42)"
   ],
   "outputs": [],
   "metadata": {}
  },
  {
   "cell_type": "code",
   "execution_count": 28,
   "source": [
    "sixth_mlp = MLPClassifier(max_iter=epochs, batch_size=batch_size, early_stopping=True, n_iter_no_change=patience, validation_fraction=validation_fraction, hidden_layer_sizes=50, random_state=42)"
   ],
   "outputs": [],
   "metadata": {}
  },
  {
   "cell_type": "code",
   "execution_count": 29,
   "source": [
    "models = [('first_mlp', first_mlp), ('second_mlp', second_mlp), ('third_mlp', third_mlp), ('fourth_mlp', fourth_mlp), ('fifth_mlp', fifth_mlp)]\r\n",
    "ensemble = VotingClassifier(estimators=models, voting='soft')\r\n",
    "ensemble.fit(x_train, y_train)"
   ],
   "outputs": [
    {
     "output_type": "execute_result",
     "data": {
      "text/plain": [
       "VotingClassifier(estimators=[('first_mlp',\n",
       "                              MLPClassifier(activation='identity',\n",
       "                                            batch_size=512, early_stopping=True,\n",
       "                                            hidden_layer_sizes=50,\n",
       "                                            max_iter=10000, random_state=42,\n",
       "                                            validation_fraction=0.33)),\n",
       "                             ('second_mlp',\n",
       "                              MLPClassifier(activation='tanh', batch_size=512,\n",
       "                                            early_stopping=True,\n",
       "                                            hidden_layer_sizes=50,\n",
       "                                            max_iter=10000, random_state=42,\n",
       "                                            validation_fraction=0.3...\n",
       "                                            max_iter=10000, random_state=42,\n",
       "                                            validation_fraction=0.33)),\n",
       "                             ('fifth_mlp',\n",
       "                              MLPClassifier(batch_size=512, early_stopping=True,\n",
       "                                            hidden_layer_sizes=200,\n",
       "                                            max_iter=10000, random_state=42,\n",
       "                                            validation_fraction=0.33)),\n",
       "                             ('sixth_mlp',\n",
       "                              MLPClassifier(batch_size=512, early_stopping=True,\n",
       "                                            hidden_layer_sizes=50,\n",
       "                                            max_iter=10000, random_state=42,\n",
       "                                            validation_fraction=0.33))],\n",
       "                 voting='soft')"
      ]
     },
     "metadata": {},
     "execution_count": 29
    }
   ],
   "metadata": {}
  },
  {
   "cell_type": "code",
   "execution_count": 30,
   "source": [
    "y_pred = ensemble.predict(x_test)"
   ],
   "outputs": [],
   "metadata": {}
  },
  {
   "cell_type": "code",
   "execution_count": 31,
   "source": [
    "y_pred_proba = ensemble.predict_proba(x_test)"
   ],
   "outputs": [],
   "metadata": {}
  },
  {
   "cell_type": "code",
   "execution_count": 32,
   "source": [
    "plot_confusion_matrix(ensemble, x_test, y_test)"
   ],
   "outputs": [
    {
     "output_type": "execute_result",
     "data": {
      "text/plain": [
       "<sklearn.metrics._plot.confusion_matrix.ConfusionMatrixDisplay at 0x18d37e7cb20>"
      ]
     },
     "metadata": {},
     "execution_count": 32
    },
    {
     "output_type": "display_data",
     "data": {
      "text/plain": [
       "<Figure size 432x288 with 2 Axes>"
      ],
      "image/png": "[encoded data removed]"
     },
     "metadata": {
      "needs_background": "light"
     }
    }
   ],
   "metadata": {}
  },
  {
   "cell_type": "code",
   "execution_count": 33,
   "source": [
    "accuracy, recall, precision, f1, auroc, aupr = compute_performance_metrics(y_test, y_pred, y_pred_proba)\r\n",
    "print_metrics_summary(accuracy, recall, precision, f1, auroc, aupr)"
   ],
   "outputs": [
    {
     "output_type": "display_data",
     "data": {
      "text/plain": [
       "<Figure size 432x288 with 1 Axes>"
      ],
      "image/png": "[encoded data removed]"
     },
     "metadata": {
      "needs_background": "light"
     }
    },
    {
     "output_type": "stream",
     "name": "stdout",
     "text": [
      "\n",
      "Accuracy:         0.6298\n",
      "Recall:           0.6789\n",
      "Precision:        0.4740\n",
      "F1:               0.5583\n",
      "AUROC:            0.6938\n",
      "AUPR:             0.5253\n"
     ]
    }
   ],
   "metadata": {}
  },
  {
   "cell_type": "code",
   "execution_count": null,
   "source": [
    "best_mlp = MLPClassifier(max_iter=epochs, batch_size=batch_size, early_stopping=True, n_iter_no_change=patience, validation_fraction=validation_fraction, hidden_layer_sizes=50, random_state=42)"
   ],
   "outputs": [],
   "metadata": {}
  },
  {
   "cell_type": "code",
   "execution_count": null,
   "source": [
    "best_forest = RandomForestClassifier(n_estimators=50, max_depth=25, min_samples_leaf=200, max_features=.4, criterion=\"entropy\")"
   ],
   "outputs": [],
   "metadata": {}
  },
  {
   "cell_type": "code",
   "execution_count": null,
   "source": [
    "best_gradient = GradientBoostingClassifier(n_iter_no_change=10, n_estimators=300, subsample=.7)"
   ],
   "outputs": [],
   "metadata": {}
  },
  {
   "cell_type": "code",
   "execution_count": null,
   "source": [
    "models = [('mlp', best_mlp), ('forest', best_forest), ('gradient', best_gradient)]\r\n",
    "ensemble = VotingClassifier(estimators=models, voting='soft')\r\n",
    "ensemble.fit(x_train, y_train)"
   ],
   "outputs": [],
   "metadata": {}
  },
  {
   "cell_type": "code",
   "execution_count": null,
   "source": [],
   "outputs": [],
   "metadata": {}
  }
 ]
}