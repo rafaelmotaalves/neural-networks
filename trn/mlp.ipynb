{
    "cells": [
        {
            "cell_type": "code",
            "execution_count": 50,
            "source": [
                "import numpy as np\n",
                "from tensorflow import keras\n",
                "from tensorflow.keras import layers\n",
                "from utils import load_dataset"
            ],
            "outputs": [],
            "metadata": {}
        },
        {
            "cell_type": "code",
            "execution_count": 56,
            "source": [
                "x_train, x_val, x_test, y_train, y_val, y_test = load_dataset()\n",
                "\n",
                "print(x_train.shape, y_train.shape)\n",
                "print(x_test.shape, y_test.shape)\n",
                "print(x_val.shape, y_val.shape)"
            ],
            "outputs": [
                {
                    "output_type": "stream",
                    "name": "stdout",
                    "text": [
                        "(255098, 243) (255098, 2)\n",
                        "(97298, 243) (97298, 2)\n",
                        "(127550, 243) (127550, 2)\n"
                    ]
                }
            ],
            "metadata": {}
        },
        {
            "cell_type": "code",
            "execution_count": 57,
            "source": [
                "num_classes = 2\n",
                "batch_size = 128\n",
                "input_shape = (243,)\n",
                "\n",
                "metrics = [\"accuracy\"]"
            ],
            "outputs": [],
            "metadata": {}
        },
        {
            "cell_type": "code",
            "execution_count": 58,
            "source": [
                "model = keras.Sequential([\n",
                "    keras.Input(shape=input_shape),\n",
                "    layers.Dense(50),\n",
                "    layers.Dense(num_classes, activation=\"softmax\")\n",
                "])\n",
                "\n",
                "model.compile(loss=\"categorical_crossentropy\", optimizer=\"sgd\", metrics=metrics)\n",
                "\n",
                "model.summary()"
            ],
            "outputs": [
                {
                    "output_type": "stream",
                    "name": "stdout",
                    "text": [
                        "WARNING:tensorflow:Please add `keras.layers.InputLayer` instead of `keras.Input` to Sequential model. `keras.Input` is intended to be used by Functional model.\n",
                        "Model: \"sequential_13\"\n",
                        "_________________________________________________________________\n",
                        "Layer (type)                 Output Shape              Param #   \n",
                        "=================================================================\n",
                        "dense_26 (Dense)             (None, 50)                12200     \n",
                        "_________________________________________________________________\n",
                        "dense_27 (Dense)             (None, 2)                 102       \n",
                        "=================================================================\n",
                        "Total params: 12,302\n",
                        "Trainable params: 12,302\n",
                        "Non-trainable params: 0\n",
                        "_________________________________________________________________\n"
                    ]
                }
            ],
            "metadata": {}
        },
        {
            "cell_type": "code",
            "execution_count": 54,
            "source": [
                "model.fit(x_train, y_train, batch_size=batch_size, epochs=50, validation_data=(x_val, y_val))"
            ],
            "outputs": [
                {
                    "output_type": "stream",
                    "name": "stdout",
                    "text": [
                        "Epoch 1/50\n",
                        "1993/1993 [==============================] - 3s 2ms/step - loss: 0.8958 - accuracy: 0.5235 - val_loss: 0.7864 - val_accuracy: 0.5223\n",
                        "Epoch 2/50\n",
                        "1993/1993 [==============================] - 5s 2ms/step - loss: 0.7681 - accuracy: 0.5533 - val_loss: 0.7484 - val_accuracy: 0.5703\n",
                        "Epoch 3/50\n",
                        "1993/1993 [==============================] - 5s 2ms/step - loss: 0.7373 - accuracy: 0.5746 - val_loss: 0.7247 - val_accuracy: 0.5811\n",
                        "Epoch 4/50\n",
                        "1993/1993 [==============================] - 8s 4ms/step - loss: 0.7171 - accuracy: 0.5842 - val_loss: 0.7135 - val_accuracy: 0.5869\n",
                        "Epoch 5/50\n",
                        "1993/1993 [==============================] - 9s 5ms/step - loss: 0.7072 - accuracy: 0.5898 - val_loss: 0.6978 - val_accuracy: 0.5911\n",
                        "Epoch 6/50\n",
                        "1993/1993 [==============================] - 8s 4ms/step - loss: 0.6998 - accuracy: 0.5928 - val_loss: 0.7040 - val_accuracy: 0.5892\n",
                        "Epoch 7/50\n",
                        "1993/1993 [==============================] - 4s 2ms/step - loss: 0.6916 - accuracy: 0.5967 - val_loss: 0.6873 - val_accuracy: 0.5958\n",
                        "Epoch 8/50\n",
                        "1993/1993 [==============================] - 5s 3ms/step - loss: 0.6870 - accuracy: 0.5983 - val_loss: 0.6822 - val_accuracy: 0.5986\n",
                        "Epoch 9/50\n",
                        "1993/1993 [==============================] - 4s 2ms/step - loss: 0.6830 - accuracy: 0.6009 - val_loss: 0.6802 - val_accuracy: 0.5981\n",
                        "Epoch 10/50\n",
                        "1993/1993 [==============================] - 5s 2ms/step - loss: 0.6802 - accuracy: 0.6015 - val_loss: 0.6805 - val_accuracy: 0.5965\n",
                        "Epoch 11/50\n",
                        "1993/1993 [==============================] - 4s 2ms/step - loss: 0.6783 - accuracy: 0.6018 - val_loss: 0.6723 - val_accuracy: 0.6044\n",
                        "Epoch 12/50\n",
                        "1993/1993 [==============================] - 5s 2ms/step - loss: 0.6759 - accuracy: 0.6035 - val_loss: 0.6799 - val_accuracy: 0.5984\n",
                        "Epoch 13/50\n",
                        "1993/1993 [==============================] - 6s 3ms/step - loss: 0.6740 - accuracy: 0.6046 - val_loss: 0.6724 - val_accuracy: 0.6057\n",
                        "Epoch 14/50\n",
                        "1993/1993 [==============================] - 4s 2ms/step - loss: 0.6733 - accuracy: 0.6050 - val_loss: 0.6725 - val_accuracy: 0.6027\n",
                        "Epoch 15/50\n",
                        "1993/1993 [==============================] - 6s 3ms/step - loss: 0.6713 - accuracy: 0.6060 - val_loss: 0.6753 - val_accuracy: 0.6024\n",
                        "Epoch 16/50\n",
                        "1993/1993 [==============================] - 5s 2ms/step - loss: 0.6705 - accuracy: 0.6060 - val_loss: 0.6765 - val_accuracy: 0.6036\n",
                        "Epoch 17/50\n",
                        "1993/1993 [==============================] - 5s 2ms/step - loss: 0.6693 - accuracy: 0.6072 - val_loss: 0.6694 - val_accuracy: 0.6053\n",
                        "Epoch 18/50\n",
                        "1993/1993 [==============================] - 5s 2ms/step - loss: 0.6684 - accuracy: 0.6076 - val_loss: 0.6663 - val_accuracy: 0.6082\n",
                        "Epoch 19/50\n",
                        "1993/1993 [==============================] - 5s 2ms/step - loss: 0.6677 - accuracy: 0.6084 - val_loss: 0.6665 - val_accuracy: 0.6076\n",
                        "Epoch 20/50\n",
                        "1993/1993 [==============================] - 6s 3ms/step - loss: 0.6673 - accuracy: 0.6086 - val_loss: 0.6647 - val_accuracy: 0.6091\n",
                        "Epoch 21/50\n",
                        "1993/1993 [==============================] - 5s 2ms/step - loss: 0.6664 - accuracy: 0.6087 - val_loss: 0.6643 - val_accuracy: 0.6094\n",
                        "Epoch 22/50\n",
                        "1993/1993 [==============================] - 5s 3ms/step - loss: 0.6656 - accuracy: 0.6096 - val_loss: 0.6648 - val_accuracy: 0.6101\n",
                        "Epoch 23/50\n",
                        "1993/1993 [==============================] - 4s 2ms/step - loss: 0.6651 - accuracy: 0.6097 - val_loss: 0.6661 - val_accuracy: 0.6086\n",
                        "Epoch 24/50\n",
                        "1993/1993 [==============================] - 4s 2ms/step - loss: 0.6646 - accuracy: 0.6107 - val_loss: 0.6644 - val_accuracy: 0.6089\n",
                        "Epoch 25/50\n",
                        "1993/1993 [==============================] - 4s 2ms/step - loss: 0.6643 - accuracy: 0.6104 - val_loss: 0.6634 - val_accuracy: 0.6101\n",
                        "Epoch 26/50\n",
                        "1993/1993 [==============================] - 4s 2ms/step - loss: 0.6636 - accuracy: 0.6111 - val_loss: 0.6606 - val_accuracy: 0.6118\n",
                        "Epoch 27/50\n",
                        "1993/1993 [==============================] - 5s 2ms/step - loss: 0.6638 - accuracy: 0.6109 - val_loss: 0.6616 - val_accuracy: 0.6114\n",
                        "Epoch 28/50\n",
                        "1993/1993 [==============================] - 5s 2ms/step - loss: 0.6630 - accuracy: 0.6118 - val_loss: 0.6720 - val_accuracy: 0.6075\n",
                        "Epoch 29/50\n",
                        "1993/1993 [==============================] - 4s 2ms/step - loss: 0.6623 - accuracy: 0.6119 - val_loss: 0.6685 - val_accuracy: 0.6083\n",
                        "Epoch 30/50\n",
                        "1993/1993 [==============================] - 4s 2ms/step - loss: 0.6620 - accuracy: 0.6122 - val_loss: 0.6687 - val_accuracy: 0.6094\n",
                        "Epoch 31/50\n",
                        "1993/1993 [==============================] - 4s 2ms/step - loss: 0.6621 - accuracy: 0.6119 - val_loss: 0.6621 - val_accuracy: 0.6115\n",
                        "Epoch 32/50\n",
                        "1993/1993 [==============================] - 5s 2ms/step - loss: 0.6617 - accuracy: 0.6128 - val_loss: 0.6604 - val_accuracy: 0.6121\n",
                        "Epoch 33/50\n",
                        "1993/1993 [==============================] - 4s 2ms/step - loss: 0.6616 - accuracy: 0.6122 - val_loss: 0.6628 - val_accuracy: 0.6111\n",
                        "Epoch 34/50\n",
                        "1993/1993 [==============================] - 4s 2ms/step - loss: 0.6610 - accuracy: 0.6129 - val_loss: 0.6663 - val_accuracy: 0.6112\n",
                        "Epoch 35/50\n",
                        "1993/1993 [==============================] - 4s 2ms/step - loss: 0.6608 - accuracy: 0.6134 - val_loss: 0.6620 - val_accuracy: 0.6110\n",
                        "Epoch 36/50\n",
                        "1993/1993 [==============================] - 4s 2ms/step - loss: 0.6608 - accuracy: 0.6130 - val_loss: 0.6603 - val_accuracy: 0.6129\n",
                        "Epoch 37/50\n",
                        "1993/1993 [==============================] - 4s 2ms/step - loss: 0.6605 - accuracy: 0.6142 - val_loss: 0.6610 - val_accuracy: 0.6126\n",
                        "Epoch 38/50\n",
                        "1993/1993 [==============================] - 4s 2ms/step - loss: 0.6603 - accuracy: 0.6136 - val_loss: 0.6602 - val_accuracy: 0.6129\n",
                        "Epoch 39/50\n",
                        "1993/1993 [==============================] - 4s 2ms/step - loss: 0.6601 - accuracy: 0.6141 - val_loss: 0.6598 - val_accuracy: 0.6137\n",
                        "Epoch 40/50\n",
                        "1993/1993 [==============================] - 4s 2ms/step - loss: 0.6600 - accuracy: 0.6141 - val_loss: 0.6690 - val_accuracy: 0.6111\n",
                        "Epoch 41/50\n",
                        "1993/1993 [==============================] - 4s 2ms/step - loss: 0.6592 - accuracy: 0.6153 - val_loss: 0.6604 - val_accuracy: 0.6137\n",
                        "Epoch 42/50\n",
                        "1993/1993 [==============================] - 4s 2ms/step - loss: 0.6595 - accuracy: 0.6146 - val_loss: 0.6606 - val_accuracy: 0.6138\n",
                        "Epoch 43/50\n",
                        "1993/1993 [==============================] - 4s 2ms/step - loss: 0.6591 - accuracy: 0.6151 - val_loss: 0.6608 - val_accuracy: 0.6124\n",
                        "Epoch 44/50\n",
                        "1993/1993 [==============================] - 4s 2ms/step - loss: 0.6587 - accuracy: 0.6154 - val_loss: 0.6588 - val_accuracy: 0.6145\n",
                        "Epoch 45/50\n",
                        "1993/1993 [==============================] - 4s 2ms/step - loss: 0.6590 - accuracy: 0.6152 - val_loss: 0.6603 - val_accuracy: 0.6140\n",
                        "Epoch 46/50\n",
                        "1993/1993 [==============================] - 5s 2ms/step - loss: 0.6585 - accuracy: 0.6156 - val_loss: 0.6583 - val_accuracy: 0.6146\n",
                        "Epoch 47/50\n",
                        "1993/1993 [==============================] - 4s 2ms/step - loss: 0.6583 - accuracy: 0.6153 - val_loss: 0.6654 - val_accuracy: 0.6115\n",
                        "Epoch 48/50\n",
                        "1993/1993 [==============================] - 4s 2ms/step - loss: 0.6584 - accuracy: 0.6156 - val_loss: 0.6595 - val_accuracy: 0.6128\n",
                        "Epoch 49/50\n",
                        "1993/1993 [==============================] - 5s 2ms/step - loss: 0.6581 - accuracy: 0.6157 - val_loss: 0.6566 - val_accuracy: 0.6155\n",
                        "Epoch 50/50\n",
                        "1993/1993 [==============================] - 4s 2ms/step - loss: 0.6579 - accuracy: 0.6161 - val_loss: 0.6587 - val_accuracy: 0.6162\n"
                    ]
                },
                {
                    "output_type": "execute_result",
                    "data": {
                        "text/plain": [
                            "<tensorflow.python.keras.callbacks.History at 0x7f3649226130>"
                        ]
                    },
                    "metadata": {},
                    "execution_count": 54
                }
            ],
            "metadata": {}
        },
        {
            "cell_type": "code",
            "execution_count": 55,
            "source": [
                "model.evaluate(x_test, y_test)"
            ],
            "outputs": [
                {
                    "output_type": "stream",
                    "name": "stdout",
                    "text": [
                        "3041/3041 [==============================] - 2s 611us/step - loss: 0.6585 - accuracy: 0.6041\n"
                    ]
                },
                {
                    "output_type": "execute_result",
                    "data": {
                        "text/plain": [
                            "[0.658526599407196, 0.6040925979614258]"
                        ]
                    },
                    "metadata": {},
                    "execution_count": 55
                }
            ],
            "metadata": {}
        }
    ],
    "metadata": {
        "orig_nbformat": 4,
        "language_info": {
            "name": "python",
            "version": "3.9.1",
            "mimetype": "text/x-python",
            "codemirror_mode": {
                "name": "ipython",
                "version": 3
            },
            "pygments_lexer": "ipython3",
            "nbconvert_exporter": "python",
            "file_extension": ".py"
        },
        "kernelspec": {
            "name": "python3",
            "display_name": "Python 3.9.1 64-bit ('base': conda)"
        },
        "interpreter": {
            "hash": "828347deea3abc4070f76cfb51056c59301b7e5e4ab6780ef22839cb4d850b58"
        }
    },
    "nbformat": 4,
    "nbformat_minor": 2
}